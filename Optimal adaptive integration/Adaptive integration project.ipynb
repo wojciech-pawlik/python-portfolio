{
 "cells": [
  {
   "cell_type": "markdown",
   "metadata": {},
   "source": [
    "The aim of the project is to show the method of adaptive integration using Simpson's quadrature and the advantages over ordinary quadrature in specific cases, as well as to present the risks that may appear in a given algorithm."
   ]
  },
  {
   "cell_type": "markdown",
   "metadata": {},
   "source": [
    "I will use separate methods - one to get the best performance, the other to visualize the partition."
   ]
  },
  {
   "cell_type": "markdown",
   "metadata": {},
   "source": [
    "I will use the following structure to present the sub-intervals and construct the last method:"
   ]
  },
  {
   "cell_type": "code",
   "execution_count": 1,
   "metadata": {},
   "outputs": [],
   "source": [
    "from time import time\n",
    "from dataclasses import dataclass\n",
    "\n",
    "@dataclass\n",
    "class Subinterval:\n",
    "    left: float\n",
    "    right: float\n",
    "    f_left: float\n",
    "    f_center: float\n",
    "    f_right: float\n",
    "    Simpson: float\n",
    "        \n",
    "    def simpson(left: float, right: float, f_left: float, f_center: float, f_right: float):\n",
    "        return (right - left)/6.*(f_left + 4.*f_center + f_right)"
   ]
  },
  {
   "cell_type": "markdown",
   "metadata": {},
   "source": [
    "It contains the ends of the sub-interval, the function values on both its edges and in the middle, and the Simpson quadrature value."
   ]
  },
  {
   "cell_type": "markdown",
   "metadata": {},
   "source": [
    "### Functions that will be used for tests in the first stage (along with analytically calculated integrals):"
   ]
  },
  {
   "cell_type": "code",
   "execution_count": 2,
   "metadata": {},
   "outputs": [],
   "source": [
    "from math import sin, cos, exp, sqrt\n",
    "\n",
    "f = lambda x: x*x\n",
    "int_f = lambda x: 1./3.*x*x*x\n",
    "\n",
    "g = lambda x: x*sin(x)\n",
    "int_g = lambda x: sin(x)-x*cos(x)\n",
    "\n",
    "h = lambda x: x*x + 2.*x + exp(-x)\n",
    "int_h = lambda x: 1./3.*x*x*x + x*x - exp(-x)"
   ]
  },
  {
   "cell_type": "markdown",
   "metadata": {},
   "source": [
    "### The method of \"drawing\" sub-intervals:\n",
    "\n",
    "(step visualization)"
   ]
  },
  {
   "cell_type": "code",
   "execution_count": 3,
   "metadata": {},
   "outputs": [],
   "source": [
    "from matplotlib import pyplot as plt\n",
    "from typing import List\n",
    "\n",
    "def get_division(subintervals: List[Subinterval]):\n",
    "    nodes = []\n",
    "    for subinterval in subintervals:\n",
    "        if subinterval.left not in nodes:\n",
    "            nodes.append(subinterval.left)\n",
    "        if subinterval.right not in nodes:\n",
    "            nodes.append(subinterval.right)\n",
    "    nodes.sort()\n",
    "    return nodes\n",
    "\n",
    "def plot_division(subintervals: List[Subinterval]):\n",
    "    nodes = get_division(subintervals)\n",
    "    plt.step(nodes, nodes)\n",
    "    plt.show()"
   ]
  },
  {
   "cell_type": "markdown",
   "metadata": {},
   "source": [
    "### Definite integral on a given interval (with analytically determined primary function):"
   ]
  },
  {
   "cell_type": "code",
   "execution_count": 4,
   "metadata": {},
   "outputs": [],
   "source": [
    "def integral(int_f, a: float = 0., b: float = 1.):\n",
    "    return int_f(b) - int_f(a)"
   ]
  },
  {
   "cell_type": "markdown",
   "metadata": {},
   "source": [
    "## Simpson's rule \n",
    "\n",
    "In the beginning, I will show the operation of the (complex) Simpson quadrature, and in the same way, I will present adaptive quadratures."
   ]
  },
  {
   "cell_type": "code",
   "execution_count": 5,
   "metadata": {},
   "outputs": [],
   "source": [
    "def simpson_quadrature(f, a: float = 0.0, b: float = 1.0, n: int = 1):\n",
    "    h = (b - a)/n\n",
    "    \n",
    "    # main nodes of the quadrature\n",
    "    x_k = lambda i: a + i*h\n",
    "    X = [x_k(i) for i in range(0,n)]\n",
    "    X.append(b)\n",
    "    \n",
    "    # middle nodes of the subintervals\n",
    "    t_k = lambda x, y: 0.5*(x + y)\n",
    "    T = [t_k(x_k(i), x_k(i + 1)) for i in range (0, n)]\n",
    "    \n",
    "    # the quadrature\n",
    "    result = f(a) + f(b)\n",
    "    result += sum(2.0*f(X[i]) for i in range(1,n))\n",
    "    result += sum(4.0*f(T[i]) for i in range(0,n))\n",
    "    result *= h/6.0\n",
    "    \n",
    "    return result"
   ]
  },
  {
   "cell_type": "markdown",
   "metadata": {},
   "source": [
    "In this case, $[a, b]$ a is split into $n$ sub-intervals. The function value is computed $2n + 1$ times. For test functions, the results in the $[0,1]$ range are as follows:"
   ]
  },
  {
   "cell_type": "code",
   "execution_count": 6,
   "metadata": {},
   "outputs": [
    {
     "name": "stdout",
     "output_type": "stream",
     "text": [
      "S_non(f) = 0.3333333333333333\n",
      "S_non(g) = 0.30116866269938636\n",
      "S_non(h) = 1.9654538955105967\n"
     ]
    }
   ],
   "source": [
    "S_non_f = simpson_quadrature(f, n = 16)\n",
    "S_non_g = simpson_quadrature(g, n = 16)\n",
    "S_non_h = simpson_quadrature(h, n = 16)\n",
    "\n",
    "print(f'S_non(f) = {S_non_f}')\n",
    "print(f'S_non(g) = {S_non_g}')\n",
    "print(f'S_non(h) = {S_non_h}')"
   ]
  },
  {
   "cell_type": "markdown",
   "metadata": {},
   "source": [
    "Note that for function $f$, the result is equal to accurate integral - independently of $n$ since $f^{(4)} \\equiv 0$. In the absence of an analytical (or a precisely determined) result, the error estimation below is strongly hypothetical for small $n$. For asymptotically small sub-intervals, it is a good approximation."
   ]
  },
  {
   "cell_type": "code",
   "execution_count": 7,
   "metadata": {},
   "outputs": [],
   "source": [
    "def error_estimation(S: float, expected: float = 0.0):\n",
    "    return S - expected"
   ]
  },
  {
   "cell_type": "code",
   "execution_count": 8,
   "metadata": {},
   "outputs": [
    {
     "name": "stdout",
     "output_type": "stream",
     "text": [
      "E_non(f) = 0.0\n",
      "E_non(g) = -1.624037038183701e-08\n",
      "E_non(h) = 3.34870575713353e-09\n"
     ]
    }
   ],
   "source": [
    "E_non_f = error_estimation(S_non_f, expected = integral(int_f))\n",
    "E_non_g = error_estimation(S_non_g, expected = integral(int_g))\n",
    "E_non_h = error_estimation(S_non_h, expected = integral(int_h))\n",
    "\n",
    "print(f'E_non(f) = {E_non_f}')\n",
    "print(f'E_non(g) = {E_non_g}')\n",
    "print(f'E_non(h) = {E_non_h}')"
   ]
  },
  {
   "cell_type": "markdown",
   "metadata": {},
   "source": [
    "Division in a complex Simpson's quadrature is, of course, uniform."
   ]
  },
  {
   "cell_type": "code",
   "execution_count": 9,
   "metadata": {},
   "outputs": [],
   "source": [
    "def simpson_quadrature_intervals(f, a = 0.0, b = 1.0, n = 1):\n",
    "    h = (b - a)/n\n",
    "    Subintervals = []\n",
    "    \n",
    "    # main nodes of the quadrature\n",
    "    x_k = lambda i: a + i*h\n",
    "    X = [x_k(i) for i in range(0,n)]\n",
    "    X.append(b)\n",
    "        \n",
    "    # construction of the sub-intervals\n",
    "    Subintervals = [Subinterval(left = X[i], right = X[i+1],\n",
    "                                f_left = f(X[i]), f_center = 0.5*(f(X[i])+f(X[i+1])), f_right = f(X[i+1]),\n",
    "                               Simpson = Subinterval.simpson(X[i], X[i+1], f(X[i]), 0.5*(f(X[i])+f(X[i+1])), f(X[i+1])))\n",
    "                    for i in range(n)]\n",
    "    \n",
    "    return Subintervals"
   ]
  },
  {
   "cell_type": "code",
   "execution_count": 10,
   "metadata": {},
   "outputs": [],
   "source": [
    "Tau_non_f = simpson_quadrature_intervals(f, n = 16)\n",
    "Tau_non_g = simpson_quadrature_intervals(g, n = 16)\n",
    "Tau_non_h = simpson_quadrature_intervals(h, n = 16)"
   ]
  },
  {
   "cell_type": "code",
   "execution_count": 11,
   "metadata": {},
   "outputs": [
    {
     "data": {
      "image/png": "[encoded data removed]",
      "text/plain": [
       "<Figure size 432x288 with 1 Axes>"
      ]
     },
     "metadata": {
      "needs_background": "light"
     },
     "output_type": "display_data"
    },
    {
     "data": {
      "image/png": "[encoded data removed]",
      "text/plain": [
       "<Figure size 432x288 with 1 Axes>"
      ]
     },
     "metadata": {
      "needs_background": "light"
     },
     "output_type": "display_data"
    },
    {
     "data": {
      "image/png": "[encoded data removed]",
      "text/plain": [
       "<Figure size 432x288 with 1 Axes>"
      ]
     },
     "metadata": {
      "needs_background": "light"
     },
     "output_type": "display_data"
    }
   ],
   "source": [
    "plot_division(Tau_non_f)\n",
    "plot_division(Tau_non_g)\n",
    "plot_division(Tau_non_h)"
   ]
  },
  {
   "cell_type": "markdown",
   "metadata": {},
   "source": [
    "## Standard adaptive quadrature\n",
    "\n",
    "The method is simple. In one iteration, the algorithm checks the difference between Simpson's rule for the whole subinterval $[u,v]$ and the sum of Simpson's rules for both halves. If the difference is within the specified tolerance, the algorithm finishes splitting."
   ]
  },
  {
   "cell_type": "code",
   "execution_count": 12,
   "metadata": {},
   "outputs": [],
   "source": [
    "def standard_adaptive_simpson_quadrature(f, a = 0.0, b = 1.0, epsilon = 0.000001, Time = time()):\n",
    "    S1 = simpson_quadrature(f, a, b)\n",
    "    S2 = simpson_quadrature(f, a, 0.5*(a+b)) + simpson_quadrature(f, 0.5*(a+b), b)\n",
    "    if abs(S1 - S2) <= 15*epsilon:\n",
    "        #Time = time() - Time\n",
    "        #print(f'Time of execution: {str(Time)} seconds.')\n",
    "        return S2\n",
    "    return standard_adaptive_simpson_quadrature(f, a, 0.5*(a+b), 0.5*epsilon, Time) + standard_adaptive_simpson_quadrature(f, 0.5*(a+b), b, 0.5*epsilon, Time)"
   ]
  },
  {
   "cell_type": "markdown",
   "metadata": {},
   "source": [
    "I will compute the values of the integrals with the target error less than that obtained in the non-adaptive integration."
   ]
  },
  {
   "cell_type": "code",
   "execution_count": 13,
   "metadata": {
    "scrolled": false
   },
   "outputs": [
    {
     "name": "stdout",
     "output_type": "stream",
     "text": [
      "S_std(f) = 0.3333333333333333\n",
      "S_std(g) = 0.3011686785692952\n",
      "S_std(h) = 1.9654538921749731\n"
     ]
    }
   ],
   "source": [
    "S_std_f = standard_adaptive_simpson_quadrature(f, epsilon = 0.1)\n",
    "S_std_g = standard_adaptive_simpson_quadrature(g, epsilon = 1.e-9)\n",
    "S_std_h = standard_adaptive_simpson_quadrature(h, epsilon = 1.e-10)\n",
    "\n",
    "print(f'S_std(f) = {S_std_f}')\n",
    "print(f'S_std(g) = {S_std_g}')\n",
    "print(f'S_std(h) = {S_std_h}')"
   ]
  },
  {
   "cell_type": "code",
   "execution_count": 14,
   "metadata": {},
   "outputs": [
    {
     "name": "stdout",
     "output_type": "stream",
     "text": [
      "E_std(f) = 0.0\n",
      "E_std(g) = -3.7046155032527395e-10\n",
      "E_std(h) = 1.308220198836807e-11\n"
     ]
    }
   ],
   "source": [
    "E_std_f = error_estimation(S_std_f, integral(int_f))\n",
    "E_std_g = error_estimation(S_std_g, integral(int_g))\n",
    "E_std_h = error_estimation(S_std_h, integral(int_h))\n",
    "\n",
    "print(f'E_std(f) = {E_std_f}')\n",
    "print(f'E_std(g) = {E_std_g}')\n",
    "print(f'E_std(h) = {E_std_h}')"
   ]
  },
  {
   "cell_type": "markdown",
   "metadata": {},
   "source": [
    "The results have been improved. Of course, for function $f$, the result is accurate independently of the input error value. It remains to compare the number of attempts required to achieve it. It will look better, of course, with a smaller target error. After all, the performance is to be improved asymptotically. The following method works equivalently, but its purpose is to construct and list a split."
   ]
  },
  {
   "cell_type": "code",
   "execution_count": 15,
   "metadata": {},
   "outputs": [],
   "source": [
    "def standard_adaptive_simpson_quadrature_intervals(f, a = 0.0, b = 1.0, epsilon = 1.e-6):\n",
    "    Stack1 = []\n",
    "    Stack2 = []\n",
    "    \n",
    "    c = 0.5*(a+b)\n",
    "    fl = f(a)\n",
    "    fc = f(c)\n",
    "    fr = f(b)\n",
    "    S = Subinterval.simpson(a, b, fl, fc, fr)\n",
    "    subinterval = Subinterval(left = a, right = b,\n",
    "                      f_left = fl, f_center = fc, f_right = fr,\n",
    "                      Simpson = S)\n",
    "    \n",
    "    Stack1.append(subinterval)\n",
    "    \n",
    "    while Stack1:\n",
    "        subinterval = Stack1.pop()\n",
    "        l = subinterval.left\n",
    "        r = subinterval.right\n",
    "        c = 0.5*(l+r)\n",
    "        fl = subinterval.f_left\n",
    "        fc = subinterval.f_center\n",
    "        fr = subinterval.f_right\n",
    "        cl = 0.5*(l+c)\n",
    "        cr = 0.5*(c+r)\n",
    "        fcl = f(cl)\n",
    "        fcr = f(cr)\n",
    "        \n",
    "        Sleft = Subinterval.simpson(l, c, fl, fcl, fc)\n",
    "        Sright = Subinterval.simpson(c, r, fc, fcr, fr)\n",
    "        \n",
    "        S1 = subinterval.Simpson\n",
    "        S2 = Sleft + Sright\n",
    "        \n",
    "        subinterval1 = Subinterval(left = l, right = c,\n",
    "                           f_left = fl, f_center = fcl, f_right = fc,\n",
    "                           Simpson = Sleft)\n",
    "        subinterval2 = Subinterval(left = c, right = r,\n",
    "                           f_left = fc, f_center = fcr, f_right = fr,\n",
    "                           Simpson = Sright)\n",
    "        \n",
    "        if abs(S1 - S2) <= 15.0*epsilon*(r - l)/(b - a):\n",
    "            Stack2.append(subinterval1)\n",
    "            Stack2.append(subinterval2)\n",
    "        else:\n",
    "            Stack1.append(subinterval1)\n",
    "            Stack1.append(subinterval2)\n",
    "    return Stack2"
   ]
  },
  {
   "cell_type": "markdown",
   "metadata": {},
   "source": [
    "As seen below, the method (as opposed to the non-adaptive one) can end up with an uneven split. We see it in the case of the function $g$. For the function $f$, the algorithm stops at the first step - as expected."
   ]
  },
  {
   "cell_type": "code",
   "execution_count": 16,
   "metadata": {},
   "outputs": [
    {
     "name": "stdout",
     "output_type": "stream",
     "text": [
      "n = 2\n"
     ]
    },
    {
     "data": {
      "image/png": "[encoded data removed]",
      "text/plain": [
       "<Figure size 432x288 with 1 Axes>"
      ]
     },
     "metadata": {
      "needs_background": "light"
     },
     "output_type": "display_data"
    },
    {
     "name": "stdout",
     "output_type": "stream",
     "text": [
      "n = 50\n"
     ]
    },
    {
     "data": {
      "image/png": "[encoded data removed]",
      "text/plain": [
       "<Figure size 432x288 with 1 Axes>"
      ]
     },
     "metadata": {
      "needs_background": "light"
     },
     "output_type": "display_data"
    },
    {
     "name": "stdout",
     "output_type": "stream",
     "text": [
      "n = 64\n"
     ]
    },
    {
     "data": {
      "image/png": "[encoded data removed]",
      "text/plain": [
       "<Figure size 432x288 with 1 Axes>"
      ]
     },
     "metadata": {
      "needs_background": "light"
     },
     "output_type": "display_data"
    }
   ],
   "source": [
    "Tau_std_f = standard_adaptive_simpson_quadrature_intervals(f, epsilon = 0.1)\n",
    "Tau_std_g = standard_adaptive_simpson_quadrature_intervals(g, epsilon = 1.e-9)\n",
    "Tau_std_h = standard_adaptive_simpson_quadrature_intervals(h, epsilon = 1.e-10)\n",
    "\n",
    "print(f'n = {len(Tau_std_f)}')\n",
    "plot_division(Tau_std_f)\n",
    "print(f'n = {len(Tau_std_g)}')\n",
    "plot_division(Tau_std_g)\n",
    "print(f'n = {len(Tau_std_h)}')\n",
    "plot_division(Tau_std_h)"
   ]
  },
  {
   "cell_type": "markdown",
   "metadata": {},
   "source": [
    "However, the standard method of adaptive integration has a disadvantage. The algorithm can stop prematurely with an incorrect result. An extreme example: integrating function $trap(x) = \\Pi_{i=0}^4(x-i)^2$ na $[0,4]$. The integral of this function is obviously positive. In the first iteration, the algorithm stops, regardless of the input $\\epsilon$ value, returning $0$."
   ]
  },
  {
   "cell_type": "code",
   "execution_count": 17,
   "metadata": {},
   "outputs": [
    {
     "name": "stdout",
     "output_type": "stream",
     "text": [
      "S_std(trap) = 0.0\n",
      "expected = 14.776334776426665\n",
      "n = 2\n"
     ]
    }
   ],
   "source": [
    "def trap_constructor(x, n):\n",
    "    if n <= -1:\n",
    "        return 1.\n",
    "    return (x-n)*(x-n)*trap_constructor(x, n-1)\n",
    "\n",
    "trap = lambda x: trap_constructor(x, 4)\n",
    "int_trap = lambda x: 192.*x**3 - 600.*x**4 + 836.*x**5 - (1990.*x**6)/3. + (2273.*x**7)/7. - 100.*x**8 + (170.*x**9)/9. - 2.*x**10 + x**11/11.\n",
    "\n",
    "S_std_trap = standard_adaptive_simpson_quadrature(trap, a = 0., b = 4., epsilon = 1.e-10)\n",
    "Int_trap = integral(int_trap, a = 0., b = 4.)\n",
    "print(f'S_std(trap) = {S_std_trap}')\n",
    "print(f'expected = {Int_trap}')\n",
    "\n",
    "Tau_std_trap = standard_adaptive_simpson_quadrature_intervals(f, epsilon = 1.e-10)\n",
    "print(f'n = {len(Tau_std_trap)}')"
   ]
  },
  {
   "cell_type": "markdown",
   "metadata": {},
   "source": [
    "To eliminate the probability of such cases, the examined functions from class $C^{(4)}([a,b])$ should be limited to those that have a positive fourth derivative over the entire interval."
   ]
  },
  {
   "cell_type": "markdown",
   "metadata": {},
   "source": [
    "Of course, you can protect such cases by adding additional conditions to prevent the algorithm from terminating prematurely. I will solve it in the method below."
   ]
  },
  {
   "cell_type": "markdown",
   "metadata": {},
   "source": [
    "## Optimitized adaptation method\n",
    "\n",
    "Now I will present an adaptive algorithm optimized for the number of calculations of the function value.\n",
    "\n",
    "The first step of the algorithm is practically the standard algorithm presented above, but if the condition is not met, it is run with the same error on the input. Obviously, the resulting sum does not converge to the value of the integral. However, we get some division of $[a,b]$ into $m$ sub-intervals - and depending on $m$, we adjust the error in the second step."
   ]
  },
  {
   "cell_type": "code",
   "execution_count": 18,
   "metadata": {},
   "outputs": [],
   "source": [
    "def optimized_adaptive_simpson_quadrature(f, a = 0.0, b = 1.0, epsilon = 0.000001):\n",
    "    Stack1 = []\n",
    "    Stack2 = []\n",
    "    \n",
    "    c = 0.5*(a+b)\n",
    "    fl = f(a)\n",
    "    fc = f(c)\n",
    "    fr = f(b)\n",
    "    S = Subinterval.simpson(a, b, fl, fc, fr)\n",
    "    subinterval = Subinterval(left = a, right = b,\n",
    "                      f_left = fl, f_center = fc, f_right = fr,\n",
    "                      Simpson = S)\n",
    "    \n",
    "    Stack1.append(subinterval)\n",
    "    m = 0\n",
    "    \n",
    "    # get the subinterval from stack\n",
    "    # if it satisfies the condition, delete\n",
    "    # if not, add the halfs of the subinterval to the stack\n",
    "\n",
    "    while Stack1:\n",
    "        subinterval = Stack1.pop()\n",
    "        l = subinterval.left\n",
    "        r = subinterval.right\n",
    "        c = 0.5*(l+r)\n",
    "        fl = subinterval.f_left\n",
    "        fc = subinterval.f_center\n",
    "        fr = subinterval.f_right\n",
    "        cl = 0.5*(l+c)\n",
    "        cr = 0.5*(c+r)\n",
    "        fcl = f(cl)\n",
    "        fcr = f(cr)\n",
    "        \n",
    "        Sleft = Subinterval.simpson(l, c, fl, fcl, fc)\n",
    "        Sright = Subinterval.simpson(c, r, fc, fcr, fr)\n",
    "        \n",
    "        S1 = subinterval.Simpson\n",
    "        S2 = Sleft + Sright\n",
    "        \n",
    "        subinterval1 = Subinterval(left = l, right = c,\n",
    "                           f_left = fl, f_center = fcl, f_right = fc,\n",
    "                           Simpson = Sleft)\n",
    "        subinterval2 = Subinterval(left = c, right = r,\n",
    "                           f_left = fc, f_center = fcr, f_right = fr,\n",
    "                           Simpson = Sright)\n",
    "        \n",
    "        if abs(S1 - S2) <= 15.0*epsilon:\n",
    "            m += 1\n",
    "            Stack2.append(subinterval1)\n",
    "            Stack2.append(subinterval2)\n",
    "        else:\n",
    "            Stack1.append(subinterval1)\n",
    "            Stack1.append(subinterval2)\n",
    "           \n",
    "    # adjust the error to optimal value B = 4^(5/4)\n",
    "    epsilon1 = epsilon*(0.25*m)**(-1.25)\n",
    "    result = 0.0\n",
    "    \n",
    "    while Stack2:\n",
    "        subinterval = Stack2.pop()\n",
    "        l = subinterval.left\n",
    "        r = subinterval.right\n",
    "        c = 0.5*(l+r)\n",
    "        fl = subinterval.f_left\n",
    "        fc = subinterval.f_center\n",
    "        fr = subinterval.f_right\n",
    "        cl = 0.5*(l+c)\n",
    "        cr = 0.5*(c+r)\n",
    "        fcl = f(cl)\n",
    "        fcr = f(cr)\n",
    "        \n",
    "        Sleft = Subinterval.simpson(l, c, fl, fcl, fc)\n",
    "        Sright = Subinterval.simpson(c, r, fc, fcr, fr)\n",
    "        \n",
    "        S1 = subinterval.Simpson\n",
    "        S2 = Sleft + Sright\n",
    "        \n",
    "        if abs(S1 - S2) <= 15.0*epsilon1:\n",
    "            result += S2\n",
    "        else:\n",
    "            subinterval1 = Subinterval(left = l, right = c,\n",
    "                           f_left = fl, f_center = fcl, f_right = fc,\n",
    "                           Simpson = Sleft)\n",
    "            subinterval2 = Subinterval(left = c, right = r,\n",
    "                           f_left = fc, f_center = fcr, f_right = fr,\n",
    "                           Simpson = Sright)\n",
    "            Stack2.append(subinterval1)\n",
    "            Stack2.append(subinterval2)\n",
    "            \n",
    "    return result"
   ]
  },
  {
   "cell_type": "code",
   "execution_count": 19,
   "metadata": {},
   "outputs": [
    {
     "name": "stdout",
     "output_type": "stream",
     "text": [
      "S_opt(f) = 0.3333333333333333\n",
      "S_opt(g) = 0.30116867887632853\n",
      "S_opt(h) = 1.9654538921749731\n"
     ]
    }
   ],
   "source": [
    "S_opt_f = standard_adaptive_simpson_quadrature(f, epsilon = 1.e-10)\n",
    "S_opt_g = standard_adaptive_simpson_quadrature(g, epsilon = 1.e-10)\n",
    "S_opt_h = standard_adaptive_simpson_quadrature(h, epsilon = 1.e-10)\n",
    "\n",
    "print(f'S_opt(f) = {S_opt_f}')\n",
    "print(f'S_opt(g) = {S_opt_g}')\n",
    "print(f'S_opt(h) = {S_opt_h}')"
   ]
  },
  {
   "cell_type": "code",
   "execution_count": 20,
   "metadata": {},
   "outputs": [
    {
     "name": "stdout",
     "output_type": "stream",
     "text": [
      "E_opt(f) = 0.0\n",
      "E_opt(g) = -6.342820713101105e-11\n",
      "E_opt(h) = 1.308220198836807e-11\n"
     ]
    }
   ],
   "source": [
    "E_opt_f = error_estimation(S_opt_f, integral(int_f))\n",
    "E_opt_g = error_estimation(S_opt_g, integral(int_g))\n",
    "E_opt_h = error_estimation(S_opt_h, integral(int_h))\n",
    "\n",
    "print(f'E_opt(f) = {E_opt_f}')\n",
    "print(f'E_opt(g) = {E_opt_g}')\n",
    "print(f'E_opt(h) = {E_opt_h}')"
   ]
  },
  {
   "cell_type": "markdown",
   "metadata": {},
   "source": [
    "As you can see, the algorithm computes the correct values. Let's see at what rate the given result was achieved."
   ]
  },
  {
   "cell_type": "code",
   "execution_count": 21,
   "metadata": {},
   "outputs": [],
   "source": [
    "def optimized_adaptive_simpson_quadrature_intervals(f, a = 0.0, b = 1.0, epsilon = 0.000001):\n",
    "    Stack1 = []\n",
    "    Stack2 = []\n",
    "    Subintervals = []\n",
    "    \n",
    "    c = 0.5*(a+b)\n",
    "    fl = f(a)\n",
    "    fc = f(c)\n",
    "    fr = f(b)\n",
    "    S = Subinterval.simpson(a, b, fl, fc, fr)\n",
    "    subinterval = Subinterval(left = a, right = b,\n",
    "                      f_left = fl, f_center = fc, f_right = fr,\n",
    "                      Simpson = S)\n",
    "    \n",
    "    Stack1.append(subinterval)\n",
    "    m = 0\n",
    "    \n",
    "    while Stack1:\n",
    "        subinterval = Stack1.pop()\n",
    "        l = subinterval.left\n",
    "        r = subinterval.right\n",
    "        c = 0.5*(l+r)\n",
    "        fl = subinterval.f_left\n",
    "        fc = subinterval.f_center\n",
    "        fr = subinterval.f_right\n",
    "        cl = 0.5*(l+c)\n",
    "        cr = 0.5*(c+r)\n",
    "        fcl = f(cl)\n",
    "        fcr = f(cr)\n",
    "        \n",
    "        Sleft = Subinterval.simpson(l, c, fl, fcl, fc)\n",
    "        Sright = Subinterval.simpson(c, r, fc, fcr, fr)\n",
    "        \n",
    "        S1 = subinterval.Simpson\n",
    "        S2 = Sleft + Sright\n",
    "        \n",
    "        subinterval1 = Subinterval(left = l, right = c,\n",
    "                           f_left = fl, f_center = fcl, f_right = fc,\n",
    "                           Simpson = Sleft)\n",
    "        subinterval2 = Subinterval(left = c, right = r,\n",
    "                           f_left = fc, f_center = fcr, f_right = fr,\n",
    "                           Simpson = Sright)\n",
    "        \n",
    "        if abs(S1 - S2) <= 15.0*epsilon:\n",
    "            m += 1\n",
    "            Stack2.append(subinterval1)\n",
    "            Stack2.append(subinterval2)\n",
    "        else:\n",
    "            Stack1.append(subinterval1)\n",
    "            Stack1.append(subinterval2)\n",
    "            \n",
    "    epsilon1 = epsilon*(0.25*m)**(-1.25)\n",
    "    result = 0.0\n",
    "    \n",
    "    while Stack2:\n",
    "        subinterval = Stack2.pop()\n",
    "        l = subinterval.left\n",
    "        r = subinterval.right\n",
    "        c = 0.5*(l+r)\n",
    "        fl = subinterval.f_left\n",
    "        fc = subinterval.f_center\n",
    "        fr = subinterval.f_right\n",
    "        cl = 0.5*(l+c)\n",
    "        cr = 0.5*(c+r)\n",
    "        fcl = f(cl)\n",
    "        fcr = f(cr)\n",
    "        \n",
    "        Sleft = Subinterval.simpson(l, c, fl, fcl, fc)\n",
    "        Sright = Subinterval.simpson(c, r, fc, fcr, fr)\n",
    "        \n",
    "        S1 = subinterval.Simpson\n",
    "        S2 = Sleft + Sright\n",
    "        \n",
    "        subinterval1 = Subinterval(left = l, right = c,\n",
    "                           f_left = fl, f_center = fcl, f_right = fc,\n",
    "                           Simpson = Sleft)\n",
    "        subinterval2 = Subinterval(left = c, right = r,\n",
    "                           f_left = fc, f_center = fcr, f_right = fr,\n",
    "                           Simpson = Sright)\n",
    "        \n",
    "        if abs(S1 - S2) <= 15.0*epsilon1:\n",
    "            Subintervals.append(subinterval1)\n",
    "            Subintervals.append(subinterval2)\n",
    "        else:\n",
    "            \n",
    "            Stack2.append(subinterval1)\n",
    "            Stack2.append(subinterval2)\n",
    "            \n",
    "    return Subintervals"
   ]
  },
  {
   "cell_type": "code",
   "execution_count": 22,
   "metadata": {},
   "outputs": [
    {
     "name": "stdout",
     "output_type": "stream",
     "text": [
      "n = 4\n"
     ]
    },
    {
     "data": {
      "image/png": "[encoded data removed]",
      "text/plain": [
       "<Figure size 432x288 with 1 Axes>"
      ]
     },
     "metadata": {
      "needs_background": "light"
     },
     "output_type": "display_data"
    },
    {
     "name": "stdout",
     "output_type": "stream",
     "text": [
      "n = 64\n"
     ]
    },
    {
     "data": {
      "image/png": "[encoded data removed]",
      "text/plain": [
       "<Figure size 432x288 with 1 Axes>"
      ]
     },
     "metadata": {
      "needs_background": "light"
     },
     "output_type": "display_data"
    },
    {
     "name": "stdout",
     "output_type": "stream",
     "text": [
      "n = 64\n"
     ]
    },
    {
     "data": {
      "image/png": "[encoded data removed]",
      "text/plain": [
       "<Figure size 432x288 with 1 Axes>"
      ]
     },
     "metadata": {
      "needs_background": "light"
     },
     "output_type": "display_data"
    }
   ],
   "source": [
    "Tau_opt_f = optimized_adaptive_simpson_quadrature_intervals(f, epsilon = 0.1)\n",
    "Tau_opt_g = optimized_adaptive_simpson_quadrature_intervals(g, epsilon = 1.e-9)\n",
    "Tau_opt_h = optimized_adaptive_simpson_quadrature_intervals(h, epsilon = 1.e-10)\n",
    "\n",
    "print(f'n = {len(Tau_opt_f)}')\n",
    "plot_division(Tau_opt_f)\n",
    "print(f'n = {len(Tau_opt_g)}')\n",
    "plot_division(Tau_opt_g)\n",
    "print(f'n = {len(Tau_opt_h)}')\n",
    "plot_division(Tau_opt_h)"
   ]
  },
  {
   "cell_type": "markdown",
   "metadata": {},
   "source": [
    "For a smaller number of iterations, the algorithm is comparable to the standard adaptive method."
   ]
  },
  {
   "cell_type": "markdown",
   "metadata": {},
   "source": [
    "Let's see if the algorithm coped with the previously wrongly approximated function $trap$."
   ]
  },
  {
   "cell_type": "code",
   "execution_count": 23,
   "metadata": {},
   "outputs": [
    {
     "name": "stdout",
     "output_type": "stream",
     "text": [
      "S_opt(trap) = 14.776334781699525\n",
      "expected = 14.776334776426665\n",
      "E_opt(trap) = 5.27285948237477e-09\n",
      "n = 4\n"
     ]
    }
   ],
   "source": [
    "S_opt_trap = optimized_adaptive_simpson_quadrature(trap, a = 0., b = 4., epsilon = 1.e-10)\n",
    "print(f'S_opt(trap) = {S_opt_trap}')\n",
    "print(f'expected = {Int_trap}')\n",
    "\n",
    "E_opt_trap = error_estimation(S_opt_trap, Int_trap)\n",
    "print(f'E_opt(trap) = {E_opt_trap}')\n",
    "\n",
    "Tau_opt_trap = optimized_adaptive_simpson_quadrature_intervals(f, epsilon = 1.e-10)\n",
    "print(f'n = {len(Tau_opt_trap)}')"
   ]
  },
  {
   "cell_type": "markdown",
   "metadata": {},
   "source": [
    "This time the algorithm worked fine and stopped fairly quickly for an error of $10^{-10}$."
   ]
  },
  {
   "cell_type": "markdown",
   "metadata": {},
   "source": [
    "### Performance for test functions with less expected error"
   ]
  },
  {
   "cell_type": "markdown",
   "metadata": {},
   "source": [
    "I will now test the operation of the three algorithms for the smaller expected error for the test functions $g$ and $h$. First, I will calculate the error for the non-adaptive algorithm with a large $n$, say $n = 1048576 = 2^{20}$."
   ]
  },
  {
   "cell_type": "code",
   "execution_count": 24,
   "metadata": {},
   "outputs": [
    {
     "name": "stdout",
     "output_type": "stream",
     "text": [
      "S_non2(g) = 0.30116867893976007\n",
      "Time_non2(g) = 0.7541799545288086s\n",
      "E_non2(g) = 3.3306690738754696e-15\n",
      "\n",
      "S_non2(h) = 1.9654538921619\n",
      "Time_non2(h) = 0.855196475982666s\n",
      "E_non2(h) = 9.103828801926284e-15\n"
     ]
    }
   ],
   "source": [
    "Time_non_g2 = time()\n",
    "S_non_g2 = simpson_quadrature(g, n = 2**20)\n",
    "Time_non_g2 = time() - Time_non_g2\n",
    "print(f'S_non2(g) = {S_non_g2}')\n",
    "print(f'Time_non2(g) = {Time_non_g2}s')\n",
    "E_non_g2 = error_estimation(S_non_g2, expected = integral(int_g))\n",
    "print(f'E_non2(g) = {E_non_g2}')\n",
    "\n",
    "print()\n",
    "\n",
    "Time_non_h2 = time()\n",
    "S_non_h2 = simpson_quadrature(h, n = 2**20)\n",
    "Time_non_h2 = time() - Time_non_h2\n",
    "print(f'S_non2(h) = {S_non_h2}')\n",
    "print(f'Time_non2(h) = {Time_non_h2}s')\n",
    "E_non_h2 = error_estimation(S_non_h2, expected = integral(int_h))\n",
    "print(f'E_non2(h) = {E_non_h2}')"
   ]
  },
  {
   "cell_type": "markdown",
   "metadata": {},
   "source": [
    "I will try to achieve the error as above for the adaptive algorithms."
   ]
  },
  {
   "cell_type": "code",
   "execution_count": 25,
   "metadata": {},
   "outputs": [
    {
     "name": "stdout",
     "output_type": "stream",
     "text": [
      "S_std2(g) = 0.3011686789397558\n",
      "Time_std2(g) = 0.008173704147338867s\n",
      "E_std2(g) = -9.43689570931383e-16\n",
      "\n",
      "S_opt2(g) = 0.30116867893975413\n",
      "Time_opt2(g) = 0.0016171932220458984s\n",
      "E_opt2(g) = -2.609024107869118e-15\n"
     ]
    }
   ],
   "source": [
    "Time_std_g2 = time()\n",
    "S_std_g2 = standard_adaptive_simpson_quadrature(g, epsilon = E_non_g2)\n",
    "Time_std_g2 = time() - Time_std_g2\n",
    "print(f'S_std2(g) = {S_std_g2}')\n",
    "print(f'Time_std2(g) = {Time_std_g2}s')\n",
    "E_std_g2 = error_estimation(S_std_g2, expected = integral(int_g))\n",
    "print(f'E_std2(g) = {E_std_g2}')\n",
    "\n",
    "print()\n",
    "\n",
    "Time_opt_g2 = time()\n",
    "S_opt_g2 = optimized_adaptive_simpson_quadrature(g, epsilon = E_non_g2)\n",
    "Time_opt_g2 = time() - Time_opt_g2\n",
    "print(f'S_opt2(g) = {S_opt_g2}')\n",
    "print(f'Time_opt2(g) = {Time_opt_g2}s')\n",
    "E_opt_g2 = error_estimation(S_opt_g2, expected = integral(int_g))\n",
    "print(f'E_opt2(g) = {E_opt_g2}')"
   ]
  },
  {
   "cell_type": "code",
   "execution_count": 26,
   "metadata": {},
   "outputs": [
    {
     "name": "stdout",
     "output_type": "stream",
     "text": [
      "S_std2(h) = 1.965453892161894\n",
      "Time_std2(h) = 0.004338741302490234s\n",
      "E_std2(h) = 3.1086244689504383e-15\n",
      "\n",
      "S_opt2(h) = 1.9654538921618947\n",
      "Time_opt2(h) = 0.0009777545928955078s\n",
      "E_opt2(h) = 3.774758283725532e-15\n"
     ]
    }
   ],
   "source": [
    "Time_std_h2 = time()\n",
    "S_std_h2 = standard_adaptive_simpson_quadrature(h, epsilon = E_non_h2)\n",
    "Time_std_h2 = time() - Time_std_h2\n",
    "print(f'S_std2(h) = {S_std_h2}')\n",
    "print(f'Time_std2(h) = {Time_std_h2}s')\n",
    "E_std_h2 = error_estimation(S_std_h2, expected = integral(int_h))\n",
    "print(f'E_std2(h) = {E_std_h2}')\n",
    "\n",
    "print()\n",
    "\n",
    "Time_opt_h2 = time()\n",
    "S_opt_h2 = optimized_adaptive_simpson_quadrature(h, epsilon = E_non_h2)\n",
    "Time_opt_h2 = time() - Time_opt_h2\n",
    "print(f'S_opt2(h) = {S_opt_h2}')\n",
    "print(f'Time_opt2(h) = {Time_opt_h2}s')\n",
    "E_opt_h2 = error_estimation(S_opt_h2, expected = integral(int_h))\n",
    "print(f'E_opt2(h) = {E_opt_h2}')"
   ]
  },
  {
   "cell_type": "markdown",
   "metadata": {},
   "source": [
    "Let's see what the subdivision looks like for the above results:"
   ]
  },
  {
   "cell_type": "code",
   "execution_count": 27,
   "metadata": {},
   "outputs": [
    {
     "name": "stdout",
     "output_type": "stream",
     "text": [
      "n = 1024\n"
     ]
    },
    {
     "data": {
      "image/png": "[encoded data removed]",
      "text/plain": [
       "<Figure size 432x288 with 1 Axes>"
      ]
     },
     "metadata": {
      "needs_background": "light"
     },
     "output_type": "display_data"
    },
    {
     "name": "stdout",
     "output_type": "stream",
     "text": [
      "n = 922\n"
     ]
    },
    {
     "data": {
      "image/png": "[encoded data removed]",
      "text/plain": [
       "<Figure size 432x288 with 1 Axes>"
      ]
     },
     "metadata": {
      "needs_background": "light"
     },
     "output_type": "display_data"
    }
   ],
   "source": [
    "Tau_std_g2 = standard_adaptive_simpson_quadrature_intervals(g, epsilon = E_non_g2)\n",
    "Tau_opt_g2 = optimized_adaptive_simpson_quadrature_intervals(g, epsilon = E_non_g2)\n",
    "\n",
    "print(f'n = {len(Tau_std_g2)}')\n",
    "plot_division(Tau_std_g2)\n",
    "print(f'n = {len(Tau_opt_g2)}')\n",
    "plot_division(Tau_opt_g2)"
   ]
  },
  {
   "cell_type": "code",
   "execution_count": 28,
   "metadata": {},
   "outputs": [
    {
     "name": "stdout",
     "output_type": "stream",
     "text": [
      "n = 512\n"
     ]
    },
    {
     "data": {
      "image/png": "[encoded data removed]",
      "text/plain": [
       "<Figure size 432x288 with 1 Axes>"
      ]
     },
     "metadata": {
      "needs_background": "light"
     },
     "output_type": "display_data"
    },
    {
     "name": "stdout",
     "output_type": "stream",
     "text": [
      "n = 512\n"
     ]
    },
    {
     "data": {
      "image/png": "[encoded data removed]",
      "text/plain": [
       "<Figure size 432x288 with 1 Axes>"
      ]
     },
     "metadata": {
      "needs_background": "light"
     },
     "output_type": "display_data"
    }
   ],
   "source": [
    "Tau_std_h2 = standard_adaptive_simpson_quadrature_intervals(h, epsilon = E_non_h2)\n",
    "Tau_opt_h2 = optimized_adaptive_simpson_quadrature_intervals(h, epsilon = E_non_h2)\n",
    "\n",
    "print(f'n = {len(Tau_std_h2)}')\n",
    "plot_division(Tau_std_h2)\n",
    "print(f'n = {len(Tau_opt_h2)}')\n",
    "plot_division(Tau_opt_h2)"
   ]
  },
  {
   "cell_type": "markdown",
   "metadata": {},
   "source": [
    "As you can see, the number of divisions is comparable."
   ]
  },
  {
   "cell_type": "markdown",
   "metadata": {},
   "source": [
    "### Comparing algorithms for functions with the singular point at the end of the interval."
   ]
  },
  {
   "cell_type": "markdown",
   "metadata": {},
   "source": [
    "The real advantage of an optimized algorithm can only be achieved with functions that have a large limitation of the fourth derivative on the input interval. For example - let's take a function $k(x) = \\frac{1}{2\\sqrt{x}}$ on the interval $[\\delta,1]$, where $\\delta = 10^{-8}$, which guarantees quite large $f^{(4)}$ values close to the left end of the interval."
   ]
  },
  {
   "cell_type": "code",
   "execution_count": 29,
   "metadata": {},
   "outputs": [],
   "source": [
    "k = lambda x: 0.5/sqrt(x)\n",
    "int_k = lambda x: sqrt(x)\n",
    "delta = 1.e-8"
   ]
  },
  {
   "cell_type": "markdown",
   "metadata": {},
   "source": [
    "As before - in the first step, I will use the non-adaptive method for big $n$ and run the adaptive algorithms with the error received."
   ]
  },
  {
   "cell_type": "code",
   "execution_count": 30,
   "metadata": {},
   "outputs": [
    {
     "name": "stdout",
     "output_type": "stream",
     "text": [
      "S_non(k) = 1.0003498438327807\n",
      "E_non(k) = 0.00044984383278068307\n"
     ]
    }
   ],
   "source": [
    "S_non_k = simpson_quadrature(k, a = delta, b = 1., n = 2**20)\n",
    "print(f'S_non(k) = {S_non_k}')\n",
    "\n",
    "E_non_k = error_estimation(S_non_k, expected = integral(int_k, a = delta, b = 1.))\n",
    "print(f'E_non(k) = {E_non_k}')"
   ]
  },
  {
   "cell_type": "markdown",
   "metadata": {},
   "source": [
    "The received error is too big to be accepted for such a dense grid."
   ]
  },
  {
   "cell_type": "code",
   "execution_count": 31,
   "metadata": {},
   "outputs": [
    {
     "name": "stdout",
     "output_type": "stream",
     "text": [
      "S_std(k) = 0.9999389575015398\n",
      "E_std(k) = 3.895750153981581e-05\n",
      "S_opt(k) = 1.000352624007697\n",
      "E_opt(k) = 0.00045262400769696676\n"
     ]
    }
   ],
   "source": [
    "S_std_k = standard_adaptive_simpson_quadrature(k, a = delta, b = 1., epsilon = E_non_k)\n",
    "print(f'S_std(k) = {S_std_k}')\n",
    "E_std_k = error_estimation(S_std_k, expected = integral(int_k, a = delta, b = 1.))\n",
    "print(f'E_std(k) = {E_std_k}')\n",
    "\n",
    "S_opt_k = optimized_adaptive_simpson_quadrature(k, a = delta, b = 1., epsilon = E_non_k)\n",
    "print(f'S_opt(k) = {S_opt_k}')\n",
    "E_opt_k = error_estimation(S_opt_k, expected = integral(int_k, a = delta, b = 1.))\n",
    "print(f'E_opt(k) = {E_opt_k}')"
   ]
  },
  {
   "cell_type": "code",
   "execution_count": 32,
   "metadata": {
    "scrolled": false
   },
   "outputs": [
    {
     "name": "stdout",
     "output_type": "stream",
     "text": [
      "n = 132\n"
     ]
    },
    {
     "data": {
      "image/png": "[encoded data removed]",
      "text/plain": [
       "<Figure size 432x288 with 1 Axes>"
      ]
     },
     "metadata": {
      "needs_background": "light"
     },
     "output_type": "display_data"
    },
    {
     "name": "stdout",
     "output_type": "stream",
     "text": [
      "n = 72\n"
     ]
    },
    {
     "data": {
      "image/png": "[encoded data removed]",
      "text/plain": [
       "<Figure size 432x288 with 1 Axes>"
      ]
     },
     "metadata": {
      "needs_background": "light"
     },
     "output_type": "display_data"
    }
   ],
   "source": [
    "Tau_std_k = standard_adaptive_simpson_quadrature_intervals(k, a = delta, b = 1., epsilon = E_non_k)\n",
    "Tau_opt_k = optimized_adaptive_simpson_quadrature_intervals(k, a = delta, b = 1., epsilon = E_non_k)\n",
    "\n",
    "print(f'n = {len(Tau_std_k)}')\n",
    "plot_division(Tau_std_k)\n",
    "print(f'n = {len(Tau_opt_k)}')\n",
    "plot_division(Tau_opt_k)"
   ]
  },
  {
   "cell_type": "markdown",
   "metadata": {},
   "source": [
    "For the adaptive algorithms, there is a noticeable approximation improvement with a significantly smaller partition number. The structure of the partition is as expected - the closer to the left edge, the denser the grid. Let's see how the adaptive algorithms behave for a smaller input error."
   ]
  },
  {
   "cell_type": "code",
   "execution_count": 33,
   "metadata": {},
   "outputs": [
    {
     "name": "stdout",
     "output_type": "stream",
     "text": [
      "S_std2(k) = 0.9999000000035783\n",
      "E_std2(k) = 3.895750153981581e-05\n",
      "\n",
      "S_opt2(k) = 0.9999000000093438\n",
      "E_opt2(k) = 0.00045262400769696676\n"
     ]
    }
   ],
   "source": [
    "epsilon_k = 1.e-11\n",
    "\n",
    "S_std_k2 = standard_adaptive_simpson_quadrature(k, a = delta, b = 1., epsilon = epsilon_k)\n",
    "print(f'S_std2(k) = {S_std_k2}')\n",
    "E_std_k2 = error_estimation(S_std_k, expected = integral(int_k, a = delta, b = 1.))\n",
    "print(f'E_std2(k) = {E_std_k2}')\n",
    "\n",
    "print()\n",
    "\n",
    "S_opt_k2 = optimized_adaptive_simpson_quadrature(k, a = delta, b = 1., epsilon = epsilon_k)\n",
    "print(f'S_opt2(k) = {S_opt_k2}')\n",
    "E_opt_k2 = error_estimation(S_opt_k, expected = integral(int_k, a = delta, b = 1.))\n",
    "print(f'E_opt2(k) = {E_opt_k2}')"
   ]
  },
  {
   "cell_type": "code",
   "execution_count": 34,
   "metadata": {},
   "outputs": [
    {
     "name": "stdout",
     "output_type": "stream",
     "text": [
      "n = 110\n"
     ]
    },
    {
     "data": {
      "image/png": "[encoded data removed]",
      "text/plain": [
       "<Figure size 432x288 with 1 Axes>"
      ]
     },
     "metadata": {
      "needs_background": "light"
     },
     "output_type": "display_data"
    },
    {
     "name": "stdout",
     "output_type": "stream",
     "text": [
      "n = 112\n"
     ]
    },
    {
     "data": {
      "image/png": "[encoded data removed]",
      "text/plain": [
       "<Figure size 432x288 with 1 Axes>"
      ]
     },
     "metadata": {
      "needs_background": "light"
     },
     "output_type": "display_data"
    }
   ],
   "source": [
    "Tau_std_k2 = standard_adaptive_simpson_quadrature_intervals(h, a = delta, b = 1., epsilon = epsilon_k)\n",
    "Tau_opt_k2 = optimized_adaptive_simpson_quadrature_intervals(h, a = delta, b = 1., epsilon = epsilon_k)\n",
    "\n",
    "print(f'n = {len(Tau_std_k2)}')\n",
    "plot_division(Tau_std_k2)\n",
    "print(f'n = {len(Tau_opt_k2)}')\n",
    "plot_division(Tau_opt_k2)"
   ]
  },
  {
   "cell_type": "markdown",
   "metadata": {},
   "source": [
    "Finally, I will compare the number of sub-intervals on the output generated by the standard algorithm and the one optimized for the function $k$ for different input errors, starting with $10^{-1}$."
   ]
  },
  {
   "cell_type": "code",
   "execution_count": 35,
   "metadata": {},
   "outputs": [],
   "source": [
    "def adaptive_integrals_comparison(f, int_f, a: float = 0., b: float = 1., log_eps1: int = 5, log_eps2: int = 12):\n",
    "    eps_list = [.1**i for i in range(log_eps1,log_eps2+1)]\n",
    "\n",
    "    Tau_std_list = []\n",
    "    Tau_opt_list = []\n",
    "\n",
    "    E_std_list = []\n",
    "    E_opt_list = []\n",
    "    \n",
    "    for eps in eps_list:\n",
    "        S_std = standard_adaptive_simpson_quadrature(f, a, b, epsilon = eps)\n",
    "        S_opt = optimized_adaptive_simpson_quadrature(f, a, b, epsilon = eps)\n",
    "\n",
    "        E_std = error_estimation(S_std, integral(int_f, a, b))\n",
    "        E_opt = error_estimation(S_opt, integral(int_f, a, b))\n",
    "\n",
    "        E_std_list.append(E_std)\n",
    "        E_opt_list.append(E_opt)\n",
    "\n",
    "        Tau_std = standard_adaptive_simpson_quadrature_intervals(f, a, b, epsilon = eps)\n",
    "        Tau_opt = optimized_adaptive_simpson_quadrature_intervals(f, a, b, epsilon = eps)\n",
    "\n",
    "        Tau_std_list.append(len(Tau_std))\n",
    "        Tau_opt_list.append(len(Tau_opt))\n",
    "\n",
    "    plt.plot(E_std_list, Tau_std_list, color = 'r')\n",
    "    plt.plot(E_opt_list, Tau_opt_list, color = 'g')\n",
    "    plt.yscale('log')\n",
    "    plt.xscale('log')\n",
    "    plt.grid(True)\n",
    "    plt.gca().invert_xaxis()\n",
    "    plt.show()"
   ]
  },
  {
   "cell_type": "code",
   "execution_count": 36,
   "metadata": {},
   "outputs": [
    {
     "data": {
      "image/png": "[encoded data removed]",
      "text/plain": [
       "<Figure size 432x288 with 1 Axes>"
      ]
     },
     "metadata": {
      "needs_background": "light"
     },
     "output_type": "display_data"
    }
   ],
   "source": [
    "adaptive_integrals_comparison(k, int_k, a = delta, b = 1.)"
   ]
  },
  {
   "cell_type": "markdown",
   "metadata": {},
   "source": [
    "The chart above shows the trend of both algorithms - for a sufficiently large number of divisions, the optimized algorithm will be better than the standard one."
   ]
  },
  {
   "cell_type": "markdown",
   "metadata": {},
   "source": [
    "### Summary\n",
    "\n",
    "Adaptive methods work great for functions with a high fourth derivative bound, especially those that have a singular point at the end of the interval. The standard adaptive algorithm has a vulnerability that allows premature termination, but such cases can be eliminated by optimizing the algorithm. The non-adaptive quadrature division grid is uniform, while for adaptive quadratures (with n sufficiently large) the node density increases with the limitation of the fourth derivative on the sub-interval, which is also particularly visible for the function with the singular point at the end of the interval."
   ]
  }
 ],
 "metadata": {
  "kernelspec": {
   "display_name": "Python 3 (ipykernel)",
   "language": "python",
   "name": "python3"
  },
  "language_info": {
   "codemirror_mode": {
    "name": "ipython",
    "version": 3
   },
   "file_extension": ".py",
   "mimetype": "text/x-python",
   "name": "python",
   "nbconvert_exporter": "python",
   "pygments_lexer": "ipython3",
   "version": "3.9.6"
  }
 },
 "nbformat": 4,
 "nbformat_minor": 4
}

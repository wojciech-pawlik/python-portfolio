{
 "cells": [
  {
   "cell_type": "markdown",
   "id": "0eb296f8",
   "metadata": {},
   "source": [
    "# Hypothesis testing with the bootstrap\n",
    "## The two-sample problem - FIDE ratings\n",
    "\n",
    "Given the two independent samples from the same population, we would check if their distributions have the same mean."
   ]
  },
  {
   "cell_type": "markdown",
   "id": "ea9466de",
   "metadata": {},
   "source": [
    "We will be looking at the FIDE ranking as of November 12, 2021. We will single out two groups of male players - Polish and Russian players."
   ]
  },
  {
   "cell_type": "code",
   "execution_count": 1,
   "id": "f57783bf",
   "metadata": {},
   "outputs": [],
   "source": [
    "import pandas as pd\n",
    "import numpy as np\n",
    "import matplotlib.pyplot as plt\n",
    "%matplotlib inline\n",
    "import math\n",
    "\n",
    "np.random.seed(2)"
   ]
  },
  {
   "cell_type": "code",
   "execution_count": 2,
   "id": "d5af1679",
   "metadata": {},
   "outputs": [
    {
     "data": {
      "text/html": [
       "<div>\n",
       "<style scoped>\n",
       "    .dataframe tbody tr th:only-of-type {\n",
       "        vertical-align: middle;\n",
       "    }\n",
       "\n",
       "    .dataframe tbody tr th {\n",
       "        vertical-align: top;\n",
       "    }\n",
       "\n",
       "    .dataframe thead th {\n",
       "        text-align: right;\n",
       "    }\n",
       "</style>\n",
       "<table border=\"1\" class=\"dataframe\">\n",
       "  <thead>\n",
       "    <tr style=\"text-align: right;\">\n",
       "      <th></th>\n",
       "      <th>fideid</th>\n",
       "      <th>country</th>\n",
       "      <th>sex</th>\n",
       "      <th>rating</th>\n",
       "      <th>birthday</th>\n",
       "    </tr>\n",
       "  </thead>\n",
       "  <tbody>\n",
       "    <tr>\n",
       "      <th>0</th>\n",
       "      <td>25121731</td>\n",
       "      <td>IND</td>\n",
       "      <td>M</td>\n",
       "      <td>1063</td>\n",
       "      <td>1987.0</td>\n",
       "    </tr>\n",
       "    <tr>\n",
       "      <th>1</th>\n",
       "      <td>35077023</td>\n",
       "      <td>IND</td>\n",
       "      <td>M</td>\n",
       "      <td>1151</td>\n",
       "      <td>1986.0</td>\n",
       "    </tr>\n",
       "    <tr>\n",
       "      <th>2</th>\n",
       "      <td>10207538</td>\n",
       "      <td>BAN</td>\n",
       "      <td>M</td>\n",
       "      <td>1840</td>\n",
       "      <td>1974.0</td>\n",
       "    </tr>\n",
       "    <tr>\n",
       "      <th>3</th>\n",
       "      <td>10680810</td>\n",
       "      <td>EGY</td>\n",
       "      <td>M</td>\n",
       "      <td>1728</td>\n",
       "      <td>2001.0</td>\n",
       "    </tr>\n",
       "    <tr>\n",
       "      <th>4</th>\n",
       "      <td>5716365</td>\n",
       "      <td>MAS</td>\n",
       "      <td>M</td>\n",
       "      <td>1325</td>\n",
       "      <td>1970.0</td>\n",
       "    </tr>\n",
       "    <tr>\n",
       "      <th>...</th>\n",
       "      <td>...</td>\n",
       "      <td>...</td>\n",
       "      <td>...</td>\n",
       "      <td>...</td>\n",
       "      <td>...</td>\n",
       "    </tr>\n",
       "    <tr>\n",
       "      <th>373387</th>\n",
       "      <td>21836060</td>\n",
       "      <td>POL</td>\n",
       "      <td>M</td>\n",
       "      <td>1472</td>\n",
       "      <td>2006.0</td>\n",
       "    </tr>\n",
       "    <tr>\n",
       "      <th>373388</th>\n",
       "      <td>34190632</td>\n",
       "      <td>RUS</td>\n",
       "      <td>M</td>\n",
       "      <td>1884</td>\n",
       "      <td>1975.0</td>\n",
       "    </tr>\n",
       "    <tr>\n",
       "      <th>373389</th>\n",
       "      <td>24232602</td>\n",
       "      <td>RUS</td>\n",
       "      <td>M</td>\n",
       "      <td>1856</td>\n",
       "      <td>1993.0</td>\n",
       "    </tr>\n",
       "    <tr>\n",
       "      <th>373390</th>\n",
       "      <td>1189980</td>\n",
       "      <td>POL</td>\n",
       "      <td>M</td>\n",
       "      <td>1519</td>\n",
       "      <td>1999.0</td>\n",
       "    </tr>\n",
       "    <tr>\n",
       "      <th>373391</th>\n",
       "      <td>21857814</td>\n",
       "      <td>POL</td>\n",
       "      <td>F</td>\n",
       "      <td>1150</td>\n",
       "      <td>2004.0</td>\n",
       "    </tr>\n",
       "  </tbody>\n",
       "</table>\n",
       "<p>373392 rows × 5 columns</p>\n",
       "</div>"
      ],
      "text/plain": [
       "          fideid country sex  rating  birthday\n",
       "0       25121731     IND   M    1063    1987.0\n",
       "1       35077023     IND   M    1151    1986.0\n",
       "2       10207538     BAN   M    1840    1974.0\n",
       "3       10680810     EGY   M    1728    2001.0\n",
       "4        5716365     MAS   M    1325    1970.0\n",
       "...          ...     ...  ..     ...       ...\n",
       "373387  21836060     POL   M    1472    2006.0\n",
       "373388  34190632     RUS   M    1884    1975.0\n",
       "373389  24232602     RUS   M    1856    1993.0\n",
       "373390   1189980     POL   M    1519    1999.0\n",
       "373391  21857814     POL   F    1150    2004.0\n",
       "\n",
       "[373392 rows x 5 columns]"
      ]
     },
     "execution_count": 2,
     "metadata": {},
     "output_type": "execute_result"
    }
   ],
   "source": [
    "df = pd.read_pickle('fide_ratings.pkl')\n",
    "df"
   ]
  },
  {
   "cell_type": "code",
   "execution_count": 3,
   "id": "8ad18aff",
   "metadata": {},
   "outputs": [
    {
     "data": {
      "text/plain": [
       "count    9928.000000\n",
       "mean     1615.495568\n",
       "std       359.730344\n",
       "min      1001.000000\n",
       "25%      1316.000000\n",
       "50%      1590.000000\n",
       "75%      1899.250000\n",
       "max      2756.000000\n",
       "Name: rating, dtype: float64"
      ]
     },
     "execution_count": 3,
     "metadata": {},
     "output_type": "execute_result"
    }
   ],
   "source": [
    "pl = df[ (df['country'] == 'POL') & (df['sex'] == 'M')]['rating']\n",
    "pl.describe()"
   ]
  },
  {
   "cell_type": "code",
   "execution_count": 4,
   "id": "9ae83677",
   "metadata": {
    "scrolled": false
   },
   "outputs": [
    {
     "data": {
      "text/plain": [
       "count    30677.000000\n",
       "mean      1717.658702\n",
       "std        386.551164\n",
       "min       1001.000000\n",
       "25%       1388.000000\n",
       "50%       1743.000000\n",
       "75%       2036.000000\n",
       "max       2812.000000\n",
       "Name: rating, dtype: float64"
      ]
     },
     "execution_count": 4,
     "metadata": {},
     "output_type": "execute_result"
    }
   ],
   "source": [
    "ru = df[ (df['country'] == 'RUS') & (df['sex'] == 'M')]['rating']\n",
    "ru.describe()"
   ]
  },
  {
   "cell_type": "code",
   "execution_count": 5,
   "id": "92660c79",
   "metadata": {},
   "outputs": [
    {
     "data": {
      "text/plain": [
       "(102.16313386887259, 0.06323950117030915)"
      ]
     },
     "execution_count": 5,
     "metadata": {},
     "output_type": "execute_result"
    }
   ],
   "source": [
    "mean_diff = ru.mean() - pl.mean()\n",
    "mean_diff_relative = mean_diff / pl.mean()\n",
    "mean_diff, mean_diff_relative"
   ]
  },
  {
   "cell_type": "markdown",
   "id": "c07f5a10",
   "metadata": {},
   "source": [
    "On November 12, 2021, the average rating of Russian players was about 91 points higher than the average rating of Polish players - almost 6% of the average rating of Polish players."
   ]
  },
  {
   "cell_type": "markdown",
   "id": "d03c59d6",
   "metadata": {},
   "source": [
    "$z = (z_1,...,z_n)$ - sample of ratings of Russian male players with unknown distribution $F$\n",
    "\n",
    "$y = (y_1,...,y_m)$ - sample of ratings of Polish male players with unknown distribution $G$\n",
    "\n",
    "$\\mu_F, \\mu_G$ - mean values of the distributions $F, G$\n",
    "\n",
    "$x = (z_1,...,z_n,y_1,...,y_m)$"
   ]
  },
  {
   "cell_type": "markdown",
   "id": "021265f8",
   "metadata": {},
   "source": [
    "$H_0: \\mu_F = \\mu_G$\n",
    "\n",
    "$H_a: \\mu_F > \\mu_G$"
   ]
  },
  {
   "cell_type": "markdown",
   "id": "9063f1e8",
   "metadata": {},
   "source": [
    "Let $X$ be a random variable denoting the distribution of the both Polish and Russian male players' rating.\n",
    "\n",
    "The bootstrap hypothesis test is based on a test statistic $t(x)$. Wee seek an achieved significance level:\n",
    "$$ASL = Prob_{H_0}(t(X) \\geq t(x)).$$"
   ]
  },
  {
   "cell_type": "code",
   "execution_count": 6,
   "id": "05af93ad",
   "metadata": {},
   "outputs": [
    {
     "name": "stdout",
     "output_type": "stream",
     "text": [
      "z:  length=61  min=1015  max=2421  mean=1699.4918032786886\n",
      "y:  length=49  min=1083  max=2250  mean=1620.0\n"
     ]
    }
   ],
   "source": [
    "n = math.floor(0.002*len(ru))\n",
    "m = math.floor(0.005*len(pl))\n",
    "alpha = 0.05 ### we seek strong evidence in a right-winged test\n",
    "z = ru.sample(n = n, replace = False).values\n",
    "y = pl.sample(n = m, replace = False).values\n",
    "print(f'z:  length={len(z)}  min={np.min(z)}  max={np.max(z)}  mean={np.mean(z)}')\n",
    "print(f'y:  length={len(y)}  min={np.min(y)}  max={np.max(y)}  mean={np.mean(y)}')"
   ]
  },
  {
   "cell_type": "markdown",
   "id": "8ab865f3",
   "metadata": {},
   "source": [
    "Since we are not willing to assume that the variances of the both distributions are equal, we base the test on\n",
    "$$t(x) = \\frac{\\bar{z} - \\bar{y}}{\\sqrt{\\bar{\\sigma}_1^2 / n + \\bar{\\sigma}_2^2 / m}}$$\n",
    "where:\n",
    "\n",
    "$\\bar{z}, \\bar{y}$ - mean values of $z$ and $y$\n",
    "\n",
    "$\\bar{\\sigma}_1^2 = \\sum_{i=1}^{n}(z_i - \\bar{z})^2/(n-1)$\n",
    "\n",
    "$\\bar{\\sigma}_2^2 = \\sum_{j=1}^{m}(y_j - \\bar{y})^2/(m-1)$"
   ]
  },
  {
   "cell_type": "markdown",
   "id": "d4e8b355",
   "metadata": {},
   "source": [
    "We approximate ASL using the following algorithm:\n",
    "\n",
    "### 1st step:\n",
    "\n",
    "Let $\\hat{F}$ put equal probability on the points\n",
    "\n",
    "$\\tilde{z}_i = z_i - \\bar{z} + \\bar{x}$ for $i=1,2,...,n$\n",
    "\n",
    "and $\\hat{G}$ put equal probability on the points\n",
    "\n",
    "$\\tilde{y}_j = y_j - \\bar{y} + \\bar{x}$ for $j=1,2,...,m$\n",
    "\n",
    "where $\\bar{x}$ is the mean of the combined sample.\n",
    "\n",
    "### 2nd step:\n",
    "\n",
    "Form $B$ bootstrap datasets $x^*_b = (z^*_b,y^*_b)$ where:\n",
    "\n",
    "$z^*_b$ is sampled with replacement from $\\tilde{z}_1,\\tilde{z}_2,...,\\tilde{z}_n$\n",
    "\n",
    "$y^*_b$ is sampled with replacement from $\\tilde{y}_1,\\tilde{y}_2,...,\\tilde{y}_m$\n",
    "\n",
    "and $b = 1,2...,B$.\n",
    "\n",
    "### 3th step:\n",
    "For each $b=1,2,...,B$, evaluate\n",
    "$$t(x^*_b) = \\frac{\\bar{z}^*_b - \\bar{y}^*_b}{\\sqrt{\\bar{\\sigma}_1^{*2} / n + \\bar{\\sigma}_2^{*2} / m}}$$\n",
    "\n",
    "### 4th step:\n",
    "\n",
    "Approximate $$\\widehat{ASL} = \\frac{\\#\\{t(x^*_b) \\geq t(x)\\ | b \\in \\{1,2,...,B\\}\\}}{B}.$$"
   ]
  },
  {
   "cell_type": "markdown",
   "id": "85ea425c",
   "metadata": {},
   "source": [
    "#### The algorithm guarantees the convergence of $\\widehat{ASL}$ to $ASL$ as $B \\rightarrow \\infty$."
   ]
  },
  {
   "cell_type": "code",
   "execution_count": 7,
   "id": "82a5c312",
   "metadata": {},
   "outputs": [],
   "source": [
    "def t_statistic(z, y):\n",
    "    n = len(z)\n",
    "    m = len(y)\n",
    "    mean_z = np.mean(z)\n",
    "    mean_y = np.mean(y)\n",
    "    std_z = np.sum([(zi - mean_z)**2 for zi in z])/(n-1)\n",
    "    std_y = np.sum([(yj - mean_y)**2 for yj in y])/(m-1)\n",
    "    return (mean_z - mean_y) / np.sqrt(std_z/n + std_y/m)"
   ]
  },
  {
   "cell_type": "code",
   "execution_count": 8,
   "id": "49ccd148",
   "metadata": {},
   "outputs": [
    {
     "data": {
      "text/plain": [
       "1.1533543412210565"
      ]
     },
     "execution_count": 8,
     "metadata": {},
     "output_type": "execute_result"
    }
   ],
   "source": [
    "t_stat = t_statistic(z, y)\n",
    "t_stat"
   ]
  },
  {
   "cell_type": "code",
   "execution_count": 9,
   "id": "1f53ac20",
   "metadata": {},
   "outputs": [],
   "source": [
    "def bootstrap_mean_test(z, y, B = 1000):\n",
    "    n = len(z)\n",
    "    m = len(y)\n",
    "    mean_z = np.mean(z)\n",
    "    mean_y = np.mean(y)\n",
    "    t = t_statistic(z, y)\n",
    "    \n",
    "    x = np.concatenate((z, y), axis = 0)\n",
    "    mean_x = np.mean(x)\n",
    "    \n",
    "    z_t = [(zi - mean_z + mean_x) for zi in z]\n",
    "    y_t = [(yj - mean_y + mean_x) for yj in y]\n",
    "    \n",
    "    t_list = [] # list the t values to visualise\n",
    "    cnt = 0\n",
    "    \n",
    "    for b in np.arange(B):\n",
    "        z_b = np.random.choice(z_t, n, replace = True)\n",
    "        y_b = np.random.choice(y_t, m, replace = True)\n",
    "        \n",
    "        t_b = t_statistic(z_b, y_b)\n",
    "        t_list.append(t_b)\n",
    "        \n",
    "        if t_b >= t:\n",
    "            cnt += 1\n",
    "            \n",
    "    asl = cnt / B\n",
    "    return asl, t_list"
   ]
  },
  {
   "cell_type": "code",
   "execution_count": 10,
   "id": "652ee429",
   "metadata": {},
   "outputs": [],
   "source": [
    "asl, t_list = bootstrap_mean_test(z, y, B = 1000)"
   ]
  },
  {
   "cell_type": "code",
   "execution_count": 11,
   "id": "8224ee10",
   "metadata": {},
   "outputs": [
    {
     "name": "stdout",
     "output_type": "stream",
     "text": [
      "Probability of obtaining result as extreme as observed t-statistic is approximately ASL = 0.114 which is above the significance level alpha = 0.05\n"
     ]
    }
   ],
   "source": [
    "comp = 'below' if asl < alpha else 'above'\n",
    "print(f'Probability of obtaining result as extreme as observed t-statistic is approximately ASL = {asl:.3f} which is {comp} the significance level alpha = {alpha}')"
   ]
  },
  {
   "cell_type": "code",
   "execution_count": 12,
   "id": "3ca4fbc8",
   "metadata": {},
   "outputs": [
    {
     "data": {
      "text/plain": [
       "Text(0.5, 1.0, 'Test of the null hypothesis via bootstrap method')"
      ]
     },
     "execution_count": 12,
     "metadata": {},
     "output_type": "execute_result"
    },
    {
     "data": {
      "image/png": "[encoded data removed]",
      "text/plain": [
       "<Figure size 720x576 with 1 Axes>"
      ]
     },
     "metadata": {
      "needs_background": "light"
     },
     "output_type": "display_data"
    }
   ],
   "source": [
    "plt.figure(figsize = (10,8))\n",
    "plt.hist(t_list, edgecolor='black', linewidth=1.2, bins = np.linspace(-5,5,21))\n",
    "plt.axvline(x=t_stat, c='red')\n",
    "plt.title('Test of the null hypothesis via bootstrap method')"
   ]
  },
  {
   "cell_type": "markdown",
   "id": "da130697",
   "metadata": {},
   "source": [
    "We are confident enough to reject the null hypothesis and accept the alternative hypothesis: Russian male chess players have significantly higher mean rating than Polish male chess players."
   ]
  },
  {
   "cell_type": "markdown",
   "id": "8fc0680a",
   "metadata": {},
   "source": [
    "#### Based on\n",
    "An Introduction to the Bootstrap, 1993 - Bradley Efron, Robert J. Tibshirani\n",
    "\n",
    "#### Data source\n",
    "https://ratings.fide.com/"
   ]
  }
 ],
 "metadata": {
  "kernelspec": {
   "display_name": "Python 3 (ipykernel)",
   "language": "python",
   "name": "python3"
  },
  "language_info": {
   "codemirror_mode": {
    "name": "ipython",
    "version": 3
   },
   "file_extension": ".py",
   "mimetype": "text/x-python",
   "name": "python",
   "nbconvert_exporter": "python",
   "pygments_lexer": "ipython3",
   "version": "3.8.10"
  }
 },
 "nbformat": 4,
 "nbformat_minor": 5
}

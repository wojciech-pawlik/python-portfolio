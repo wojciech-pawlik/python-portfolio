{
 "cells": [
  {
   "cell_type": "markdown",
   "id": "6b24feb7",
   "metadata": {},
   "source": [
    "### Wprowadzenie - równanie Langevina"
   ]
  },
  {
   "cell_type": "markdown",
   "id": "a6a5f133",
   "metadata": {},
   "source": [
    "The Langevin equation, describing the motion of a dust particle in a liquid, is an example of the Ornstein-Uhlenbeck process. Ket $X(t)$ - pozycja cząstki w czasie $t$. Równanie prezentuje się następująco:\n",
    "$$dX(t) = -aX(t)dt + \\sqrt{b}dW(t),$$\n",
    "gdzie $a, b$ są stałymi parametrami układu, a $W(t)$ jest procesem Wienera, który w praktyce odpowiada za biały szum w postaci zderzeń z innymi cząstkami."
   ]
  },
  {
   "cell_type": "code",
   "execution_count": 1,
   "id": "cbd8e525",
   "metadata": {},
   "outputs": [],
   "source": [
    "import numpy as np\n",
    "import pandas as pd\n",
    "import matplotlib.pyplot as plt\n",
    "from matplotlib.animation import FuncAnimation"
   ]
  },
  {
   "cell_type": "code",
   "execution_count": 2,
   "id": "477beac9",
   "metadata": {},
   "outputs": [],
   "source": [
    "## one dimention\n",
    "def langevin_emscheme(X_0 = 1.0, a = 0.1, b = 0.5, T = 1.0, n = 100):\n",
    "    grid = np.linspace(0., T, n+1)\n",
    "    X = np.zeros(len(grid))\n",
    "    X[0] = X_0\n",
    "    for i in range(1, len(grid)):\n",
    "        dt = grid[i] - grid[i-1]\n",
    "        dw = np.random.normal() * np.sqrt(dt)\n",
    "        X[i] = X[i-1] + dt*a + np.sqrt(b)*dw\n",
    "    return grid, X"
   ]
  },
  {
   "cell_type": "code",
   "execution_count": 3,
   "id": "9be8da93",
   "metadata": {},
   "outputs": [
    {
     "data": {
      "text/plain": [
       "Text(0.5, 1.0, 'Symulacja wybranej ścieżki jednowymiarowej vs średnia ścieżka dla 1000 wygenerowanych ścieżek jednowymiarowych')"
      ]
     },
     "execution_count": 3,
     "metadata": {},
     "output_type": "execute_result"
    },
    {
     "data": {
      "image/png": "[encoded data removed]",
      "text/plain": [
       "<Figure size 432x288 with 1 Axes>"
      ]
     },
     "metadata": {
      "needs_background": "light"
     },
     "output_type": "display_data"
    }
   ],
   "source": [
    "Xs = []\n",
    "n = 1000\n",
    "for i in range(n):\n",
    "    grid, X = langevin_emscheme()\n",
    "    Xs.append(X)\n",
    "X = np.average(Xs, axis = 0)\n",
    "plt.plot(grid, X)\n",
    "plt.plot(grid, Xs[0])\n",
    "plt.title(f'Symulacja wybranej ścieżki jednowymiarowej vs średnia ścieżka dla {n} wygenerowanych ścieżek jednowymiarowych')"
   ]
  },
  {
   "cell_type": "code",
   "execution_count": 118,
   "id": "0efdc6d4",
   "metadata": {},
   "outputs": [],
   "source": [
    "def langevin_emscheme_multidim(X_0, a = 0.1, b = 0.5, k = 0., T = 1.0, n = 100, k2 = 0.):\n",
    "    grid = np.linspace(0., T, n+1)\n",
    "    d = len(X_0)\n",
    "    mw = b(0., X_0, k).shape[1]\n",
    "    X = np.array([np.zeros(d) for i in range(len(grid))])\n",
    "    X[0] = X_0\n",
    "    for i in range(1, len(grid)):\n",
    "        dt = grid[i] - grid[i-1]\n",
    "        last = X[i - 1]\n",
    "        dw = np.random.normal(size=mw) * np.sqrt(dt)\n",
    "        X[i] = last - dt * a(grid[i - 1], last, k) + np.matmul(b(grid[i - 1], last, k), dw)\n",
    "    return grid, X"
   ]
  },
  {
   "cell_type": "code",
   "execution_count": 137,
   "id": "39fac3ae",
   "metadata": {},
   "outputs": [],
   "source": [
    "def a_m(t, x, k):\n",
    "    return k\n",
    "\n",
    "def b_m(t, x, k):\n",
    "    return k"
   ]
  },
  {
   "cell_type": "code",
   "execution_count": null,
   "id": "c07ff280",
   "metadata": {},
   "outputs": [],
   "source": []
  },
  {
   "cell_type": "code",
   "execution_count": null,
   "id": "c640bab8",
   "metadata": {},
   "outputs": [],
   "source": []
  },
  {
   "cell_type": "markdown",
   "id": "39d6abaa",
   "metadata": {},
   "source": [
    "### Reakcje chemiczne"
   ]
  },
  {
   "cell_type": "markdown",
   "id": "df32899d",
   "metadata": {},
   "source": [
    "Równanie Langevina można zastosować do symulowania przebiegu reakcji chemicznych. Mając określone stężenia początkowe substancji i możliwe reakcje pomiędzy nimi podczas zderzeń cząstek (z określonym prawdopodobieństwem), możemy przeprowadzić symulację stężeń względem czasu."
   ]
  },
  {
   "cell_type": "markdown",
   "id": "234f1450",
   "metadata": {},
   "source": []
  },
  {
   "cell_type": "code",
   "execution_count": null,
   "id": "8e0f7a39",
   "metadata": {},
   "outputs": [],
   "source": []
  },
  {
   "cell_type": "code",
   "execution_count": null,
   "id": "53e511b3",
   "metadata": {},
   "outputs": [],
   "source": []
  },
  {
   "cell_type": "code",
   "execution_count": null,
   "id": "fa14c7fa",
   "metadata": {},
   "outputs": [],
   "source": []
  },
  {
   "cell_type": "code",
   "execution_count": null,
   "id": "10cff309",
   "metadata": {},
   "outputs": [],
   "source": []
  },
  {
   "cell_type": "code",
   "execution_count": null,
   "id": "2b51ad74",
   "metadata": {},
   "outputs": [],
   "source": []
  },
  {
   "cell_type": "code",
   "execution_count": null,
   "id": "dfc64b76",
   "metadata": {},
   "outputs": [],
   "source": []
  },
  {
   "cell_type": "markdown",
   "id": "b95d5b7b",
   "metadata": {},
   "source": [
    "### Model transformacji HERG"
   ]
  },
  {
   "cell_type": "markdown",
   "id": "82bf1ad4",
   "metadata": {},
   "source": [
    "Gen HERG tworzy główną część jednego z białek kanału jonowego odpowiedzialnego za wyprowadzanie jonów potasu z włókien mięśniowych serca. Jego struktura może wystąpić w pięciu różnych stanach: trzech otwartych ($C_1, C_2, C_3$), otwartym ($O$) i stanie dezaktywacji ($I$). Przejście w jeden stan w drugi może odbyć się jak na rysunku poniżej, gdzie $k_1,...,k_{10}$ - stałe opisujące przebieg reakcji w czasie."
   ]
  },
  {
   "cell_type": "code",
   "execution_count": 6,
   "id": "98c0f4b0",
   "metadata": {},
   "outputs": [
    {
     "data": {
      "image/png": "[encoded data removed]",
      "text/plain": [
       "<IPython.core.display.Image object>"
      ]
     },
     "execution_count": 6,
     "metadata": {},
     "output_type": "execute_result"
    }
   ],
   "source": [
    "from IPython.display import Image\n",
    "Image(filename='herg.png')"
   ]
  },
  {
   "cell_type": "markdown",
   "id": "36b2df6e",
   "metadata": {},
   "source": [
    "Prowadzi to do następującego równania:"
   ]
  },
  {
   "cell_type": "markdown",
   "id": "f8f8fc8b",
   "metadata": {},
   "source": [
    "$d\\begin{pmatrix}\n",
    "X_1\\\\\n",
    "X_2\\\\\n",
    "X_3\\\\\n",
    "X_4\\\\\n",
    "X_5\n",
    "\\end{pmatrix}\n",
    "= \\begin{pmatrix}\n",
    "-1 & 1 & 0 & 0 & 0 & 0 & 0 & 0 & 0 & 0\\\\\n",
    "1 & -1 & -1 & 1 & 0 & 0 & 0 & 0 & 0 & 0\\\\\n",
    "0 & 0 & 1 & -1 & -1 & 1 & 0 & 0 & 1 & -1\\\\\n",
    "0 & 0 & 0 & 0 & 1 & -1 & -1 & 1 & 0 & 0\\\\\n",
    "0 & 0 & 0 & 0 & 0 & 0 & 1 & -1 & -1 & 1\n",
    "\\end{pmatrix}\n",
    "\\begin{pmatrix}\n",
    "k_1X_1\\\\\n",
    "k_2X_2\\\\\n",
    "k_3X_2\\\\\n",
    "k_4X_3\\\\\n",
    "k_5X_3\\\\\n",
    "k_6X_4\\\\\n",
    "k_7X_4\\\\\n",
    "k_8X_5\\\\\n",
    "k_9X_5\\\\\n",
    "k_{10}X_3\\\\\n",
    "\\end{pmatrix}dt\n",
    "+ g(X)dW(t)\n",
    "$,\n",
    "\n",
    "\n",
    "gdzie:\n",
    "\n",
    "\n",
    "$\\scriptsize{g(X) = \\begin{pmatrix}\n",
    "-1 & 1 & 0 & 0 & 0 & 0 & 0 & 0 & 0 & 0\\\\\n",
    "1 & -1 & -1 & 1 & 0 & 0 & 0 & 0 & 0 & 0\\\\\n",
    "0 & 0 & 1 & -1 & -1 & 1 & 0 & 0 & 1 & -1\\\\\n",
    "0 & 0 & 0 & 0 & 1 & -1 & -1 & 1 & 0 & 0\\\\\n",
    "0 & 0 & 0 & 0 & 0 & 0 & 1 & -1 & -1 & 1\n",
    "\\end{pmatrix}\n",
    "\\begin{pmatrix}\n",
    "\\sqrt{k_1X_1} & 0 & 0 & 0 & 0 & 0 & 0 & 0 & 0 & 0\\\\\n",
    "0 & \\sqrt{k_2X_2} & 0 & 0 & 0 & 0 & 0 & 0 & 0 & 0\\\\\n",
    "0 & 0 & \\sqrt{k_3X_2} & 0 & 0 & 0 & 0 & 0 & 0 & 0\\\\\n",
    "0 & 0 & 0 & \\sqrt{k_4X_3} & 0 & 0 & 0 & 0 & 0 & 0\\\\\n",
    "0 & 0 & 0 & 0 & \\sqrt{k_5X_3} & 0 & 0 & 0 & 0 & 0\\\\\n",
    "0 & 0 & 0 & 0 & 0 & \\sqrt{k_6X_4} & 0 & 0 & 0 & 0\\\\\n",
    "0 & 0 & 0 & 0 & 0 & 0 & \\sqrt{k_7X_4} & 0 & 0 & 0\\\\\n",
    "0 & 0 & 0 & 0 & 0 & 0 & 0 & \\sqrt{k_8X_5} & 0 & 0\\\\\n",
    "0 & 0 & 0 & 0 & 0 & 0 & 0 & 0 & \\sqrt{k_9X_5} & 0\\\\\n",
    "0 & 0 & 0 & 0 & 0 & 0 & 0 & 0 & 0 & \\sqrt{k_{10}X_3}\\\\\n",
    "\\end{pmatrix}}$\n",
    "\n",
    "\n",
    "$dW(t) = \\begin{pmatrix}\n",
    "dW_1(t)\\\\\n",
    "dW_2(t)\\\\\n",
    "dW_3(t)\\\\\n",
    "dW_4(t)\\\\\n",
    "dW_5(t)\\\\\n",
    "dW_6(t)\\\\\n",
    "dW_7(t)\\\\\n",
    "dW_8(t)\\\\\n",
    "dW_9(t)\\\\\n",
    "dW_{10}(t)\\\\\n",
    "\\end{pmatrix}$"
   ]
  },
  {
   "cell_type": "code",
   "execution_count": null,
   "id": "c0ab4bd6",
   "metadata": {},
   "outputs": [],
   "source": []
  },
  {
   "cell_type": "code",
   "execution_count": 127,
   "id": "18dfbe81",
   "metadata": {},
   "outputs": [
    {
     "data": {
      "text/plain": [
       "array([[-1,  1,  0,  0,  0,  0,  0,  0,  0,  0],\n",
       "       [ 1, -1, -1,  1,  0,  0,  0,  0,  0,  0],\n",
       "       [ 0,  0,  1, -1, -1,  1,  0,  0,  1, -1],\n",
       "       [ 0,  0,  0,  0,  1, -1, -1,  1,  0,  0],\n",
       "       [ 0,  0,  0,  0,  0,  0,  1, -1, -1,  1]])"
      ]
     },
     "execution_count": 127,
     "metadata": {},
     "output_type": "execute_result"
    }
   ],
   "source": [
    "k1 = 4.1\n",
    "k2 = 2.2\n",
    "k3 = 9.1\n",
    "k4 = 5.2\n",
    "k5 = 1.1\n",
    "k6 = 5.2\n",
    "k7 = 3.1\n",
    "k8 = 5.2\n",
    "k9 = 5.1\n",
    "k10 = 1.2\n",
    "\n",
    "k_herg = np.array([k1,k2,k3,k4,k5,k6,k7,k8,k9,k10])\n",
    "\n",
    "g_herg = np.array(np.mat('-1 1 0 0 0 0 0 0 0 0; 1 -1 -1 1 0 0 0 0 0 0; 0 0 1 -1 -1 1 0 0 1 -1; 0 0 0 0 1 -1 -1 1 0 0; 0 0 0 0 0 0 1 -1 -1 1'))\n",
    "\n",
    "def a_herg(t, x, k):\n",
    "    kx = np.array([k[0]*x[0], k[1]*x[1], k[2]*x[1], k[3]*x[2], k[4]*x[2], k[5]*x[3], k[6]*x[3], k[7]*x[4], k[8]*x[4], k[9]*x[2]])\n",
    "    for index, element in enumerate(kx):\n",
    "        kx[index] = -element\n",
    "    return np.matmul(g_herg, kx)\n",
    "\n",
    "def b_herg(t, x, k):\n",
    "    kx = np.array([k[0]*x[0], k[1]*x[1], k[2]*x[1], k[3]*x[2], k[4]*x[2], k[5]*x[3], k[6]*x[3], k[7]*x[4], k[8]*x[4], k[9]*x[2]])\n",
    "    for index, element in enumerate(kx):\n",
    "        kx[index] = np.sqrt(abs(element))\n",
    "    return np.matmul(g_herg, np.diag(kx))\n",
    "\n",
    "g_herg"
   ]
  },
  {
   "cell_type": "code",
   "execution_count": 123,
   "id": "cae3b04c",
   "metadata": {},
   "outputs": [],
   "source": [
    "C1 = 10.\n",
    "C2 = 20.\n",
    "C3 = 66.5\n",
    "O = 23.9\n",
    "I = 32.2\n",
    "\n",
    "X0 = np.array([C1, C2, C3, O, I])"
   ]
  },
  {
   "cell_type": "code",
   "execution_count": 128,
   "id": "d758ca70",
   "metadata": {},
   "outputs": [],
   "source": [
    "herg_grid, herg_x = langevin_emscheme_multidim(X0, a = a_herg, b = b_herg, k = k_herg, T = 5., n = 100)"
   ]
  },
  {
   "cell_type": "code",
   "execution_count": 129,
   "id": "052923a9",
   "metadata": {
    "scrolled": true
   },
   "outputs": [
    {
     "name": "stdout",
     "output_type": "stream",
     "text": [
      "[10.  20.  66.5 23.9 32.2]\n",
      "[11.23524927 25.93747052 63.72505331 24.3361384  27.3660885 ]\n",
      "[10.20802969 24.64479479 72.35275041 26.14146577 19.25295934]\n",
      "[14.83394334 32.85889845 55.76970685 23.48235384 25.65509752]\n",
      "[17.39690407 26.33948162 68.5479056  19.22462182 21.09108689]\n",
      "[17.99513324 37.65541351 60.28764725 18.99238692 17.66941908]\n",
      "[15.22631992 47.29927241 56.13581499 23.87744588 10.06114679]\n",
      "[17.433522   31.56307642 70.11290973 25.38831491  8.10217694]\n",
      "[21.17122561 35.89695077 53.77893841 28.50376044 13.24912477]\n",
      "[19.50049511 44.04882181 53.71458302 24.91300205 10.42309801]\n",
      "[18.92121723 34.14805819 68.46865492 20.78312397 10.27894569]\n",
      "[16.86830335 34.67294156 70.89363343 19.17949037 10.98563128]\n",
      "[16.77550201 41.6587498  63.76678023 16.2696457  14.12932226]\n",
      "[13.84724872 47.26527208 60.99994325 16.95610162 13.53143434]\n",
      "[14.4716787  37.95128413 72.56786435 17.24413942 10.3650334 ]\n",
      "[ 8.11332793 36.9521598  76.59886155 13.98217267 16.95347805]\n",
      "[ 9.06720303 46.90664188 60.39593838 17.14926965 19.08094707]\n",
      "[12.76396475 37.52274727 74.86983652 21.87701422  5.56643724]\n",
      "[14.32029805 44.19301513 70.19914733 15.70651152  8.18102798]\n",
      "[15.92921813 52.49203944 46.58619903 16.83068371 20.76185969]\n",
      "[17.91133285 25.83834177 75.09263506 18.30534284 15.45234748]\n",
      "[19.82543647 26.56877609 71.31932987 21.91478813 12.97166944]\n",
      "[18.3494451  34.15008573 65.64617395 16.01002371 18.44427151]\n",
      "[19.50943156 29.86894609 65.67511688 25.38676875 12.1597367 ]\n",
      "[22.71535137 36.53629536 60.63646069 16.3599475  16.35194508]\n",
      "[28.38617803 32.66056043 61.61939746 14.59625538 15.3376087 ]\n",
      "[23.39404867 44.10460185 57.2794348  10.45105319 17.37086148]\n",
      "[18.28507772 44.02443055 59.89085919 16.20257138 14.19706117]\n",
      "[20.20920473 43.39008997 54.61940477 14.41630095 19.96499957]\n",
      "[15.88880871 38.53741511 63.87372617 16.73363057 17.56641945]\n",
      "[15.82772212 35.27282419 68.40059858 18.89287252 14.2059826 ]\n",
      "[12.01609533 44.48995303 63.22972384 18.89112181 13.973106  ]\n",
      "[15.08991495 37.82763027 73.78288637 10.41962243 15.47994599]\n",
      "[20.06281089 30.49310463 73.25995687 11.5676262  17.21650141]\n",
      "[23.3173199  25.01541095 66.33659344 16.61240352 21.3182722 ]\n",
      "[20.89949675 39.87641038 61.10519277 17.30058044 13.41831966]\n",
      "[20.22141012 35.09031406 69.77508128  9.94826955 17.56492499]\n",
      "[22.30035819 42.15028223 60.84271588 11.99154267 15.31510103]\n",
      "[24.18703803 37.50415847 56.93231667 18.36329197 15.61319486]\n",
      "[20.0394677  41.08688552 57.59417301 21.84765933 12.03181443]\n",
      "[28.44797196 31.80063577 61.23894586 16.08863712 15.0238093 ]\n",
      "[28.18446976 41.33831547 48.07002897 17.43146501 17.57572079]\n",
      "[25.81575154 34.64129916 57.94941637 20.57660209 13.61693084]\n",
      "[29.41175042 36.46685113 50.56319882 20.43280642 15.72539321]\n",
      "[24.1533303  49.65901745 46.03874935 20.09042191 12.65848099]\n",
      "[21.56637206 41.29145491 58.91820407 20.06783559 10.75613338]\n",
      "[29.4079269  21.37515432 69.25210727 20.51446834 12.05034317]\n",
      "[31.53217337 25.9053265  61.83024468 15.8792654  17.45299005]\n",
      "[26.99330569 37.06543985 57.79955482 15.89026433 14.85143531]\n",
      "[16.95521197 53.3831419  59.83857291 13.39425063  9.02882259]\n",
      "[20.54678495 31.12119738 79.50453306 11.91598442  9.51150019]\n",
      "[21.31564632 35.9725964  63.96278914 15.86580025 15.4831679 ]\n",
      "[15.53265243 39.11173978 71.93161169 13.3791843  12.6448118 ]\n",
      "[16.20130258 37.43913519 79.92685488  6.76117108 12.27153627]\n",
      "[15.19228712 48.77761003 67.0093831   8.43884535 13.1818744 ]\n",
      "[14.39190546 48.53950253 65.81609964  8.60149    15.25100237]\n",
      "[15.75797174 35.02175166 70.62372789 12.0746296  19.12191911]\n",
      "[17.01229658 30.08458159 75.99156888  9.56739818 19.94415476]\n",
      "[19.75801632 29.58931594 76.7334263  12.13623161 14.38300982]\n",
      "[23.72132308 34.26676551 62.17993381 19.4896706  12.94230699]\n",
      "[22.04750488 41.27310049 62.26983614 15.49984804 11.50971046]\n",
      "[20.44790324 45.23730385 56.4605629  15.1434599  15.31077011]\n",
      "[20.79656777 36.55442091 64.54434032 15.72938043 14.97529057]\n",
      "[23.88307276 29.36851121 65.83680386 16.26402267 17.2475895 ]\n",
      "[14.38566763 46.60936333 67.18382546 13.71131626 10.70982732]\n",
      "[17.55454095 35.30108444 68.88096941 15.57748218 15.28592303]\n",
      "[22.18381093 30.31114126 70.84100117 18.02243308 11.24161356]\n",
      "[20.87332422 33.72377584 69.86696153 12.88379786 15.25214055]\n",
      "[19.61743637 32.92156179 70.0039829  18.23425304 11.8227659 ]\n",
      "[22.97300595 29.30312251 68.98194758 15.17941339 16.16251058]\n",
      "[23.78489598 36.95190865 51.12213818 17.70527407 23.03578312]\n",
      "[18.25370826 38.65666091 63.05376542 14.13886302 18.4970024 ]\n",
      "[18.0968409  40.05587639 59.63968419 20.03053547 14.77706304]\n",
      "[17.76746552 41.41387752 61.22100164 22.97901713  9.21863819]\n",
      "[19.62049927 31.3467732  69.48671108 15.45784908 16.68816737]\n",
      "[15.35277523 38.93839775 62.21186534 13.9176436  22.17931808]\n",
      "[13.12279166 31.65198169 69.98571511 18.75254953 19.08696201]\n",
      "[14.39322176 36.14387911 67.71457501 17.20072074 17.14760338]\n",
      "[14.8163071  35.0089459  69.22352584 12.72956878 20.82165238]\n",
      "[17.47544823 34.99245847 65.92704655 14.01917538 20.18587139]\n",
      "[23.28750984 29.14846438 69.92440056 16.60123345 13.63839177]\n",
      "[25.30933766 35.1302725  57.52074948 20.6037943  14.03584605]\n",
      "[24.86957759 26.33205893 63.95891844 17.83481212 19.60463292]\n",
      "[22.74710158 44.36862099 52.4036623  17.017974   16.06264112]\n",
      "[18.92691911 38.23390833 65.88797754 12.19962971 17.35156531]\n",
      "[24.04669184 25.25671939 72.51774395 17.92601106 12.85283377]\n",
      "[19.51123    42.54513911 63.33399732 13.34686239 13.86277118]\n",
      "[19.55837264 46.96327121 60.82408277 18.67528759  6.57898579]\n",
      "[20.42894851 39.09870576 65.5098674  17.22118148 10.34129685]\n",
      "[19.67317196 44.48293657 60.26694251 14.1223207  14.05462825]\n",
      "[18.77996249 58.58465935 45.10442607 23.39990742  6.73104467]\n",
      "[17.69165709 42.55427605 65.7775313  17.96346964  8.61306592]\n",
      "[20.40401193 27.3169022  82.06595585 14.85097957  7.96215044]\n",
      "[21.48705765 35.65924795 70.67164126 13.81271219 10.96934095]\n",
      "[24.98084272 26.40077291 77.37487855 13.2604469  10.58305893]\n",
      "[22.31035792 39.96874236 58.61706083 19.70948685 11.99435204]\n",
      "[21.95950961 37.4098024  57.58167196 25.00061389 10.64840215]\n",
      "[21.40413147 32.6955911  60.64214831 22.2651738  15.59295532]\n",
      "[21.61604199 30.6214145  73.49270828 12.97246236 13.89737287]\n",
      "[21.94116686 31.88669301 71.76542366 13.13741431 13.86930215]\n",
      "[21.19109899 27.27892048 72.38776703 18.26700789 13.4752056 ]\n"
     ]
    }
   ],
   "source": [
    "for i in range(len(herg_grid)):\n",
    "    print(herg_x[i, :])"
   ]
  },
  {
   "cell_type": "code",
   "execution_count": 136,
   "id": "1874463d",
   "metadata": {},
   "outputs": [
    {
     "data": {
      "image/png": "[encoded data removed]",
      "text/plain": [
       "<Figure size 432x288 with 1 Axes>"
      ]
     },
     "metadata": {
      "needs_background": "light"
     },
     "output_type": "display_data"
    }
   ],
   "source": [
    "for i in range(herg_x.shape[1]):\n",
    "    plt.plot(grid, herg_x[:,i])\n",
    "    plt.annotate(f'{i}', (grid[0], herg_x[0, i]))\n",
    "plt.title('Symulacja stanów HERG w czasie')\n",
    "plt.show()"
   ]
  },
  {
   "cell_type": "code",
   "execution_count": 75,
   "id": "a9feb0e4",
   "metadata": {},
   "outputs": [
    {
     "data": {
      "text/plain": [
       "array([[ 10.        ,  15.        , 110.        ,   1.        ,\n",
       "         40.        ],\n",
       "       [ 13.61424366,  63.14524639,  56.10179103,   3.7963611 ,\n",
       "         39.34235782],\n",
       "       [ 24.79361747,  28.82977452,  75.73841495,   6.69023144,\n",
       "         39.94796162],\n",
       "       [ 23.24912213,  41.00247176,  63.14508641,   6.84015005,\n",
       "         41.76316965],\n",
       "       [ 24.35455557,  31.19190218,  71.4577356 ,   7.17931372,\n",
       "         41.81649293],\n",
       "       [ 12.37558528,  49.8557501 ,  64.66260286,   9.63767571,\n",
       "         39.46838606],\n",
       "       [ 16.33657777,  35.33506358,  73.5239738 ,  10.07195544,\n",
       "         40.73242941],\n",
       "       [ 21.29105471,  35.98062096,  65.22134793,  13.05845756,\n",
       "         40.44851883],\n",
       "       [ 21.33026141,  45.34979246,  56.3550895 ,  15.04353541,\n",
       "         37.92132121],\n",
       "       [ 18.21644794,  39.79176257,  62.70397942,  15.03613598,\n",
       "         40.25167409],\n",
       "       [ 18.65815966,  29.37324158,  69.25742206,  16.48245628,\n",
       "         42.22872043],\n",
       "       [ 14.10037342,  28.7056549 ,  71.10878906,  19.70028064,\n",
       "         42.38490199],\n",
       "       [ 12.61727137,  46.26976308,  53.09999339,  19.86054359,\n",
       "         44.15242858],\n",
       "       [ 12.94860519,  25.04476676,  74.27241194,  19.68837465,\n",
       "         44.04584145],\n",
       "       [ 13.86334404,  57.98486316,  39.05312317,  20.47770522,\n",
       "         44.62096441],\n",
       "       [ 22.55697226,  12.78094954,  75.2431065 ,  20.23504268,\n",
       "         45.18392902],\n",
       "       [ 15.47676338,  44.94451402,  48.68157206,  20.13428521,\n",
       "         46.76286533],\n",
       "       [ 18.17192641,  20.71240012,  67.86694306,  21.84913219,\n",
       "         47.39959822],\n",
       "       [ 17.62716992,  30.6924662 ,  56.13714933,  23.75760205,\n",
       "         47.7856125 ],\n",
       "       [ 15.18351507,  29.88194055,  58.26979422,  24.80224532,\n",
       "         47.86250484],\n",
       "       [ 16.96067983,  18.45315544,  67.53948215,  25.60459306,\n",
       "         47.44208952],\n",
       "       [ 18.34565601,  40.62164761,  40.35594157,  26.91876162,\n",
       "         49.75799318],\n",
       "       [ 15.31162043,  24.28506969,  60.90024813,  26.55363693,\n",
       "         48.94942482],\n",
       "       [ 14.18658579,  37.84467771,  46.94328874,  28.20334708,\n",
       "         48.82210069],\n",
       "       [ 17.76045917,  16.90135234,  61.14925691,  28.83565945,\n",
       "         51.35327213],\n",
       "       [ 12.52444445,  33.91548017,  45.73754548,  31.60629665,\n",
       "         52.21623325],\n",
       "       [ 17.86355831,  27.6909456 ,  47.11613076,  28.35519745,\n",
       "         54.97416789],\n",
       "       [ 13.07209269,  36.4037065 ,  45.20544878,  28.0123225 ,\n",
       "         53.30642953],\n",
       "       [ 17.66162746,  28.25998946,  47.10534015,  31.92337613,\n",
       "         51.0496668 ],\n",
       "       [ 20.00042632,  23.0069304 ,  52.7768826 ,  31.60266237,\n",
       "         48.61309831],\n",
       "       [ 17.38129549,  31.21093599,  48.18186265,  31.56289577,\n",
       "         47.66301009],\n",
       "       [ 13.31766455,  16.4147775 ,  68.61769926,  33.03888651,\n",
       "         44.61097219],\n",
       "       [  8.59961976,  37.96141019,  52.33668047,  34.48223111,\n",
       "         42.62005847],\n",
       "       [ 13.33630302,  31.91451311,  53.38711139,  33.32332352,\n",
       "         44.03874897],\n",
       "       [  7.80847765,  14.4274988 ,  75.61402352,  32.74028563,\n",
       "         45.4097144 ],\n",
       "       [  8.58991158,  43.89000207,  45.68197408,  31.11071514,\n",
       "         46.72739713],\n",
       "       [ 21.07121981,   8.96815863,  68.10004369,  30.53818486,\n",
       "         47.32239301],\n",
       "       [ 17.50125391,  45.54129668,  32.98367932,  30.54168988,\n",
       "         49.43208021],\n",
       "       [ 21.099844  ,  15.55085047,  61.47583018,  31.0268456 ,\n",
       "         46.84662974],\n",
       "       [ 13.9828011 ,  38.40102574,  44.8672881 ,  31.74164631,\n",
       "         47.00723875],\n",
       "       [ 17.91507009,  26.80192287,  53.01362554,  30.21291943,\n",
       "         48.05646208],\n",
       "       [ 13.97003651,  28.19186854,  55.19479517,  27.06065236,\n",
       "         51.58264742],\n",
       "       [  9.70499545,  40.1528707 ,  47.46270321,  30.55893159,\n",
       "         48.12049905],\n",
       "       [ 16.56414936,  29.50708775,  52.46916271,  31.99763459,\n",
       "         45.46196559],\n",
       "       [ 12.08773651,  36.63915482,  47.5475145 ,  31.47800004,\n",
       "         48.24759413],\n",
       "       [ 11.55056597,  15.51060289,  70.29911047,  31.43881599,\n",
       "         47.20090468],\n",
       "       [ 14.23747627,  29.55645714,  53.26428203,  33.82569698,\n",
       "         45.11608757],\n",
       "       [ 16.69768322,  21.95280718,  57.66066611,  34.35408489,\n",
       "         45.3347586 ],\n",
       "       [ 15.7576113 ,  34.33732184,  45.46101498,  36.19176925,\n",
       "         44.25228262],\n",
       "       [ 20.09003438,  25.67392027,  51.22893302,  37.09994301,\n",
       "         41.90716932],\n",
       "       [ 22.23541181,  18.72537243,  58.56289606,  35.60380543,\n",
       "         40.87251427],\n",
       "       [ 15.68408096,  37.2168267 ,  50.88416407,  34.52286295,\n",
       "         37.69206532],\n",
       "       [ 15.67459376,  27.31630304,  61.14421951,  36.45454881,\n",
       "         35.41033487],\n",
       "       [ 12.62891766,  42.60229743,  49.13082937,  35.9351605 ,\n",
       "         35.70279505],\n",
       "       [ 20.17664647,  31.45267729,  51.42110375,  36.32854887,\n",
       "         36.62102362],\n",
       "       [ 20.9909891 ,  32.55353029,  48.13431842,  36.63110035,\n",
       "         37.69006184],\n",
       "       [ 16.82688712,  34.62017024,  48.58357812,  37.60795622,\n",
       "         38.3614083 ],\n",
       "       [ 20.67468017,  34.65887583,  44.29356173,  40.54939208,\n",
       "         35.82349018],\n",
       "       [ 23.60110617,  15.31421507,  60.47274624,  41.43504563,\n",
       "         35.17688688],\n",
       "       [ 14.29975558,  46.02771478,  38.63774906,  39.96815919,\n",
       "         37.06662139],\n",
       "       [ 17.81761534,  23.10178293,  60.24848115,  40.7299399 ,\n",
       "         34.10218068],\n",
       "       [ 11.36166253,  38.57131549,  52.53879177,  40.18892981,\n",
       "         33.33930041],\n",
       "       [  7.88867978,  48.10700043,  47.3133417 ,  38.35116774,\n",
       "         34.33981035],\n",
       "       [ 15.44967662,  19.14379057,  66.76604087,  37.58621622,\n",
       "         37.05427571],\n",
       "       [ 12.59797093,  31.66345506,  54.71001891,  36.53225382,\n",
       "         40.49630128],\n",
       "       [ 15.06206202,  32.82634442,  51.30511911,  36.18837713,\n",
       "         40.61809731],\n",
       "       [ 10.15983606,  33.60036404,  54.02892914,  36.75810619,\n",
       "         41.45276456],\n",
       "       [ 10.08948178,  24.87177662,  62.46245113,  38.80142517,\n",
       "         39.77486529],\n",
       "       [ 10.60255927,  27.74861884,  56.72683262,  40.37718669,\n",
       "         40.54480258],\n",
       "       [ 14.68150281,  34.58493559,  47.67040364,  42.67246085,\n",
       "         36.39069711],\n",
       "       [ 18.79056162,  19.97814233,  57.82544824,  42.27819331,\n",
       "         37.1276545 ],\n",
       "       [ 17.86279703,  30.55709821,  47.96388271,  44.84485505,\n",
       "         34.77136701],\n",
       "       [  7.79501354,  28.26018308,  58.7245823 ,  44.81804638,\n",
       "         36.4021747 ],\n",
       "       [ 15.81929188,  23.4776221 ,  54.58463511,  45.08080223,\n",
       "         37.03764869],\n",
       "       [ 10.5106566 ,  33.6911273 ,  49.93211146,  43.77509456,\n",
       "         38.09101009],\n",
       "       [  9.80218454,  33.02668046,  50.27569117,  43.97267468,\n",
       "         38.92276915],\n",
       "       [  8.62785043,  36.38126893,  46.94321604,  45.80941809,\n",
       "         38.23824651],\n",
       "       [ 12.20444981,  19.38337583,  58.5266604 ,  44.96627109,\n",
       "         40.91924287],\n",
       "       [ 13.97257926,  35.48103173,  40.72361025,  46.55244358,\n",
       "         39.27033518],\n",
       "       [ 23.81603027,  15.18933105,  55.12190739,  44.06528076,\n",
       "         37.80745053],\n",
       "       [ 12.17118912,  33.64005887,  47.53906718,  41.56191932,\n",
       "         41.08776551],\n",
       "       [ 14.59410638,  26.28046062,  49.06665734,  45.11112092,\n",
       "         40.94765473],\n",
       "       [ 15.89251407,  15.39502519,  56.80472213,  44.63373122,\n",
       "         43.27400739],\n",
       "       [ 11.97225529,  26.05917298,  46.47356947,  45.4602056 ,\n",
       "         46.03479666],\n",
       "       [ 12.18816961,  26.40644761,  47.6486864 ,  43.83686943,\n",
       "         45.91982696],\n",
       "       [  9.76546107,  17.30103794,  62.98109589,  41.19596174,\n",
       "         44.75644337],\n",
       "       [  7.53953077,  30.8464673 ,  54.42058298,  39.36069328,\n",
       "         43.83272568],\n",
       "       [ 15.90184747,  30.48546305,  45.8861938 ,  40.51861631,\n",
       "         43.20787937],\n",
       "       [ 14.68151194,  30.76700235,  45.03616634,  39.88819746,\n",
       "         45.62712191],\n",
       "       [  9.70338854,  38.15071377,  42.81314292,  39.01501487,\n",
       "         46.31773991],\n",
       "       [ 15.82616261,  13.75980912,  60.57410757,  39.88360994,\n",
       "         45.95631076],\n",
       "       [  9.90747194,  42.55468659,  38.23299266,  37.30042479,\n",
       "         48.00442402],\n",
       "       [ 17.81441542,  21.97971647,  51.10872403,  38.10375328,\n",
       "         46.9933908 ],\n",
       "       [ 19.08108495,  24.47836056,  48.70359371,  38.61428257,\n",
       "         45.1226782 ],\n",
       "       [ 14.2283033 ,  48.2952087 ,  27.87093897,  42.23547413,\n",
       "         43.3700749 ],\n",
       "       [ 18.63847252,  25.48519965,  45.90825307,  42.88586939,\n",
       "         43.08220537],\n",
       "       [ 17.31393281,  39.17425195,  33.6199056 ,  42.45139778,\n",
       "         43.44051185],\n",
       "       [ 22.29737663,  22.31061523,  44.04321598,  41.99874259,\n",
       "         45.35004958],\n",
       "       [ 13.18167677,  36.60540708,  37.64532127,  41.87317664,\n",
       "         46.69441824],\n",
       "       [ 18.13720595,  17.13587774,  54.44072954,  43.19973697,\n",
       "         43.0864498 ],\n",
       "       [ 12.65622801,  19.42769235,  54.61191709,  46.69819149,\n",
       "         42.60597106]])"
      ]
     },
     "execution_count": 75,
     "metadata": {},
     "output_type": "execute_result"
    }
   ],
   "source": [
    "x"
   ]
  },
  {
   "cell_type": "code",
   "execution_count": null,
   "id": "242baad7",
   "metadata": {},
   "outputs": [],
   "source": []
  }
 ],
 "metadata": {
  "kernelspec": {
   "display_name": "Python 3",
   "language": "python",
   "name": "python3"
  },
  "language_info": {
   "codemirror_mode": {
    "name": "ipython",
    "version": 3
   },
   "file_extension": ".py",
   "mimetype": "text/x-python",
   "name": "python",
   "nbconvert_exporter": "python",
   "pygments_lexer": "ipython3",
   "version": "3.9.5"
  }
 },
 "nbformat": 4,
 "nbformat_minor": 5
}
